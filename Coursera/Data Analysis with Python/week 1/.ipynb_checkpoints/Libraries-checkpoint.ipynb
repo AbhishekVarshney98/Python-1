{
 "cells": [
  {
   "cell_type": "markdown",
   "metadata": {},
   "source": [
    "# 1. Scientific Computing Libraries in Python\n",
    "- ***Pandas***\n",
    "- ***numpy***\n",
    "- ***SciPy***"
   ]
  },
  {
   "cell_type": "markdown",
   "metadata": {},
   "source": [
    "# 2. Visualization Libraries in Python\n",
    "- ***Matplotlib***\n",
    "- ***Seaborn***"
   ]
  },
  {
   "cell_type": "markdown",
   "metadata": {},
   "source": [
    "# 3. Algorithmics Libraries in Python\n",
    "- ***Scikit-learn***\n",
    "- ***Statsmodels***"
   ]
  },
  {
   "cell_type": "code",
   "execution_count": null,
   "metadata": {},
   "outputs": [],
   "source": []
  }
 ],
 "metadata": {
  "kernelspec": {
   "display_name": "Python 3",
   "language": "python",
   "name": "python3"
  },
  "language_info": {
   "codemirror_mode": {
    "name": "ipython",
    "version": 3
   },
   "file_extension": ".py",
   "mimetype": "text/x-python",
   "name": "python",
   "nbconvert_exporter": "python",
   "pygments_lexer": "ipython3",
   "version": "3.8.2"
  }
 },
 "nbformat": 4,
 "nbformat_minor": 4
}
