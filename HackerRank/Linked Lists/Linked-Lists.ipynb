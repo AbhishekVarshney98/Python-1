{
 "cells": [
  {
   "cell_type": "code",
   "execution_count": null,
   "metadata": {},
   "outputs": [],
   "source": [
    "n=b"
   ]
  },
  {
   "cell_type": "code",
   "execution_count": 5,
   "metadata": {},
   "outputs": [
    {
     "name": "stdin",
     "output_type": "stream",
     "text": [
      " 3\n",
      " 16\n",
      " 13\n",
      " 7\n",
      " 1\n",
      " 2\n"
     ]
    },
    {
     "name": "stdout",
     "output_type": "stream",
     "text": [
      "16 13 1 7\n"
     ]
    }
   ],
   "source": [
    "a=[]\n",
    "for i in range(int(input())):\n",
    "    a.append(int(input()))\n",
    "n1=int(input())\n",
    "n2=int(input())\n",
    "a.insert(n2,n1)\n",
    "print(*(a))"
   ]
  },
  {
   "cell_type": "code",
   "execution_count": 82,
   "metadata": {},
   "outputs": [],
   "source": [
    "# %load delete-node-at-position.py\n",
    "class node:\n",
    "    def __init__(self,data):\n",
    "        self.data=data\n",
    "        self.next=None\n",
    "class LinkedList:\n",
    "    def __init__(self):\n",
    "        self.start=None\n",
    "    def display(self):\n",
    "        if self.start==None:\n",
    "            print('list is empty')\n",
    "        else:\n",
    "            temp=self.start\n",
    "            while temp:\n",
    "                print(temp.data)\n",
    "                temp=temp.next\n",
    "    def deleteNode(self, position):\n",
    "        # if linked ist is empty\n",
    "        temp=self.start\n",
    "        if temp==None:\n",
    "            return\n",
    "        \n",
    "        # if heads to be removed\n",
    "        if position==0:\n",
    "            self.start=temp.next\n",
    "            temp=None\n",
    "            return\n",
    "        \n",
    "        #iterate nodes for deletion\n",
    "        for  i in range(position-1):\n",
    "            temp=temp.next\n",
    "            if temp is None:\n",
    "                break\n",
    "        \n",
    "        #if position>length of linked list\n",
    "        if temp is None:\n",
    "            return\n",
    "        if temp.next is None:\n",
    "            return\n",
    "        \n",
    "        next=temp.next.next\n",
    "        temp.next=None\n",
    "        temp.next=next\n",
    "        \n",
    "l=LinkedList()\n",
    "for i in range(int(input())):\n",
    "    n=int(input())\n",
    "    if i==0:\n",
    "        l.start=node(n)\n",
    "        ptr=l.start\n",
    "    else:\n",
    "        ptr.next=node(n)\n",
    "        ptr=ptr.next"
   ]
  },
  {
   "cell_type": "code",
   "execution_count": 71,
   "metadata": {},
   "outputs": [],
   "source": [
    "def deleteNodeAtPosition(head, position):\n",
    "        # if linked ist is empty\n",
    "        temp=head\n",
    "        if temp==None:\n",
    "            return\n",
    "        \n",
    "        # if heads to be removed\n",
    "        if position==0:\n",
    "            head=temp.next\n",
    "            temp=None\n",
    "            return\n",
    "        \n",
    "        #iterate nodes for deletion\n",
    "        for  i in range(position-1):\n",
    "            temp=temp.next\n",
    "            if temp is None:\n",
    "                break\n",
    "        \n",
    "        #if position>length of linked list\n",
    "        if temp is None:\n",
    "            return\n",
    "        if temp.next is None:\n",
    "            return\n",
    "        \n",
    "        next=temp.next.next\n",
    "        temp.next=None\n",
    "        temp.next=next"
   ]
  },
  {
   "cell_type": "code",
   "execution_count": 77,
   "metadata": {},
   "outputs": [
    {
     "name": "stdout",
     "output_type": "stream",
     "text": [
      "12\n"
     ]
    }
   ],
   "source": [
    "l.display()"
   ]
  },
  {
   "cell_type": "code",
   "execution_count": 78,
   "metadata": {},
   "outputs": [],
   "source": [
    "l.deleteNode(1)"
   ]
  },
  {
   "cell_type": "code",
   "execution_count": 75,
   "metadata": {},
   "outputs": [],
   "source": [
    "deleteNodeAtPosition(l.start,1)"
   ]
  },
  {
   "cell_type": "code",
   "execution_count": 80,
   "metadata": {},
   "outputs": [
    {
     "data": {
      "text/plain": [
       "__main__.LinkedList"
      ]
     },
     "execution_count": 80,
     "metadata": {},
     "output_type": "execute_result"
    }
   ],
   "source": [
    "type(l)"
   ]
  },
  {
   "cell_type": "code",
   "execution_count": null,
   "metadata": {},
   "outputs": [],
   "source": []
  }
 ],
 "metadata": {
  "kernelspec": {
   "display_name": "Python 3",
   "language": "python",
   "name": "python3"
  },
  "language_info": {
   "codemirror_mode": {
    "name": "ipython",
    "version": 3
   },
   "file_extension": ".py",
   "mimetype": "text/x-python",
   "name": "python",
   "nbconvert_exporter": "python",
   "pygments_lexer": "ipython3",
   "version": "3.8.2"
  }
 },
 "nbformat": 4,
 "nbformat_minor": 4
}
