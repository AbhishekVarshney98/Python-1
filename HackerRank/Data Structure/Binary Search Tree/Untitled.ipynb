{
 "cells": [
  {
   "cell_type": "code",
   "execution_count": 1,
   "metadata": {},
   "outputs": [
    {
     "name": "stdin",
     "output_type": "stream",
     "text": [
      " 7\n",
      " 1 4 7 86 2 5 7\n"
     ]
    },
    {
     "name": "stdout",
     "output_type": "stream",
     "text": [
      "1 2 4 5 7 7 86 "
     ]
    }
   ],
   "source": [
    "class Node:\n",
    "    def __init__(self,key):\n",
    "        self.right=None\n",
    "        self.left=None\n",
    "        self.val=key\n",
    "\n",
    "def insert(root,node):\n",
    "    if root is None:\n",
    "        root=node\n",
    "    else:\n",
    "        if root.val<node.val:\n",
    "            if root.right is None:\n",
    "                root.right=node\n",
    "            else:\n",
    "                insert(root.right,node)\n",
    "        else:\n",
    "            if root.left is None:\n",
    "                root.left=node\n",
    "            else:\n",
    "                insert(root.left,node)\n",
    "\n",
    "def inorder(root):\n",
    "    if root:\n",
    "        inorder(root.left)\n",
    "        print(root.val,end=' ')\n",
    "        inorder(root.right)\n",
    "\n",
    "n=int(input())\n",
    "a=list(map(int,input().split()))\n",
    "for i in range(n):\n",
    "    if i==0:\n",
    "        r=Node(a[i])\n",
    "    else:\n",
    "        insert(r,Node(a[i]))\n",
    "inorder(r)"
   ]
  },
  {
   "cell_type": "code",
   "execution_count": 13,
   "metadata": {},
   "outputs": [
    {
     "name": "stdout",
     "output_type": "stream",
     "text": [
      "2 4 5 7 7 86 "
     ]
    },
    {
     "data": {
      "text/plain": [
       "''"
      ]
     },
     "execution_count": 13,
     "metadata": {},
     "output_type": "execute_result"
    }
   ],
   "source": [
    "l=[]\n",
    "def inorder_wk(root1,root2):\n",
    "    if root1 and root2:\n",
    "        pass\n",
    "        l.append(root1.val)\n",
    "        inorder(root1.left)\n",
    "        inorder(root1.right)\n",
    "inorder_wk(r,k)\n",
    "# l\n",
    ";"
   ]
  },
  {
   "cell_type": "code",
   "execution_count": 10,
   "metadata": {},
   "outputs": [
    {
     "data": {
      "text/plain": [
       "<__main__.Node at 0x7f6208bf2b50>"
      ]
     },
     "execution_count": 10,
     "metadata": {},
     "output_type": "execute_result"
    }
   ],
   "source": [
    "k=r\n",
    "k"
   ]
  },
  {
   "cell_type": "code",
   "execution_count": null,
   "metadata": {},
   "outputs": [],
   "source": []
  }
 ],
 "metadata": {
  "kernelspec": {
   "display_name": "Python 3",
   "language": "python",
   "name": "python3"
  },
  "language_info": {
   "codemirror_mode": {
    "name": "ipython",
    "version": 3
   },
   "file_extension": ".py",
   "mimetype": "text/x-python",
   "name": "python",
   "nbconvert_exporter": "python",
   "pygments_lexer": "ipython3",
   "version": "3.8.2"
  }
 },
 "nbformat": 4,
 "nbformat_minor": 4
}
