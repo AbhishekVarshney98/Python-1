{
 "cells": [
  {
   "cell_type": "code",
   "execution_count": 1,
   "metadata": {},
   "outputs": [
    {
     "name": "stdin",
     "output_type": "stream",
     "text": [
      " 7\n",
      " 50 30 20 40 70 60 80\n"
     ]
    },
    {
     "name": "stdout",
     "output_type": "stream",
     "text": [
      "20 30 40 50 60 70 80 "
     ]
    }
   ],
   "source": [
    "class Node:\n",
    "    def __init__(self,key):\n",
    "        self.right=None\n",
    "        self.left=None\n",
    "        self.val=key\n",
    "\n",
    "def insert(root,node):\n",
    "    if root is None:\n",
    "        root=node\n",
    "    else:\n",
    "        if root.val<node.val:\n",
    "            if root.right is None:\n",
    "                root.right=node\n",
    "            else:\n",
    "                insert(root.right,node)\n",
    "        else:\n",
    "            if root.left is None:\n",
    "                root.left=node\n",
    "            else:\n",
    "                insert(root.left,node)\n",
    "\n",
    "def inorder(root):\n",
    "    if root:\n",
    "        inorder(root.left)\n",
    "        print(root.val,end=' ')\n",
    "        inorder(root.right)\n",
    "\n",
    "n=int(input())\n",
    "a=list(map(int,input().split()))\n",
    "for i in range(n):\n",
    "    if i==0:\n",
    "        r=Node(a[i])\n",
    "    else:\n",
    "        insert(r,Node(a[i]))\n",
    "inorder(r)"
   ]
  },
  {
   "cell_type": "code",
   "execution_count": 2,
   "metadata": {},
   "outputs": [],
   "source": [
    "# maxHeight of Binary Search Tree\n",
    "def getHeight(root):\n",
    "    if root:\n",
    "        leftDepth = getHeight(root.left)\n",
    "        rightDepth = getHeight(root.right)\n",
    "        return max(leftDepth,rightDepth) + 1\n",
    "    else:\n",
    "        return -1"
   ]
  },
  {
   "cell_type": "code",
   "execution_count": 3,
   "metadata": {},
   "outputs": [
    {
     "data": {
      "text/plain": [
       "2"
      ]
     },
     "execution_count": 3,
     "metadata": {},
     "output_type": "execute_result"
    }
   ],
   "source": [
    "getHeight(r)"
   ]
  },
  {
   "cell_type": "code",
   "execution_count": 8,
   "metadata": {},
   "outputs": [],
   "source": [
    "# level order  traversal of Binary Search Tree\n",
    "def level_order(root):\n",
    "    h=getHeight(r)\n",
    "    for i in range(1,h+2):\n",
    "        level_order_given(root,i)\n",
    "def level_order_given(root,level):\n",
    "    if root is None:\n",
    "        return\n",
    "    if level==1:\n",
    "        print(root.val,end=' ')\n",
    "    else:\n",
    "        level_order_given(root.left,level-1)\n",
    "        level_order_given(root.right,level-1)"
   ]
  },
  {
   "cell_type": "code",
   "execution_count": 9,
   "metadata": {},
   "outputs": [
    {
     "name": "stdout",
     "output_type": "stream",
     "text": [
      "50 30 70 20 40 60 80 "
     ]
    }
   ],
   "source": [
    "level_order(r)"
   ]
  },
  {
   "cell_type": "code",
   "execution_count": null,
   "metadata": {},
   "outputs": [],
   "source": []
  }
 ],
 "metadata": {
  "kernelspec": {
   "display_name": "Python 3",
   "language": "python",
   "name": "python3"
  },
  "language_info": {
   "codemirror_mode": {
    "name": "ipython",
    "version": 3
   },
   "file_extension": ".py",
   "mimetype": "text/x-python",
   "name": "python",
   "nbconvert_exporter": "python",
   "pygments_lexer": "ipython3",
   "version": "3.8.2"
  }
 },
 "nbformat": 4,
 "nbformat_minor": 4
}
