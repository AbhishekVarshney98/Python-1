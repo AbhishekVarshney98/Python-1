{
 "cells": [
  {
   "cell_type": "code",
   "execution_count": 46,
   "metadata": {},
   "outputs": [],
   "source": [
    "class node:\n",
    "    def __init__(self,data):\n",
    "        self.data=data\n",
    "        self.right=None\n",
    "        self.left=None"
   ]
  },
  {
   "cell_type": "markdown",
   "metadata": {},
   "source": [
    "### Adding data in tree "
   ]
  },
  {
   "cell_type": "code",
   "execution_count": 78,
   "metadata": {},
   "outputs": [],
   "source": [
    "# %load 'Binary Search Tree'/'adding data'.py\n",
    "def Insert(root,data):\n",
    "    if root is None:\n",
    "        root=node(data)\n",
    "    else:\n",
    "        if root.data < data:\n",
    "            if root.right is None:\n",
    "                root.right=node(data)\n",
    "            else:\n",
    "                Insert(root.right,data)\n",
    "        else:\n",
    "            if root.left is None:\n",
    "                root.left=node(data)\n",
    "            else:\n",
    "                Insert(root.left,data)"
   ]
  },
  {
   "cell_type": "markdown",
   "metadata": {},
   "source": [
    "### Traversal"
   ]
  },
  {
   "cell_type": "code",
   "execution_count": 59,
   "metadata": {},
   "outputs": [],
   "source": [
    "# %load Traversal/inorder.py\n",
    "def display(head):\n",
    "    if head:\n",
    "        display(head.left)\n",
    "        print(head.data,end=' ')\n",
    "        display(head.right)"
   ]
  },
  {
   "cell_type": "code",
   "execution_count": 63,
   "metadata": {},
   "outputs": [],
   "source": [
    "# %load Traversal/preorder.py\n",
    "def preorder(head):\n",
    "    if head:\n",
    "        print(head.data)\n",
    "        display(head.left)\n",
    "        display(head.right)"
   ]
  },
  {
   "cell_type": "code",
   "execution_count": 64,
   "metadata": {},
   "outputs": [],
   "source": [
    "# %load Traversal/postorder.py\n",
    "def postorder(head):\n",
    "    if head:\n",
    "        display(head.left)\n",
    "        display(head.right)\n",
    "        print(head.data)"
   ]
  },
  {
   "cell_type": "code",
   "execution_count": 53,
   "metadata": {},
   "outputs": [
    {
     "name": "stdout",
     "output_type": "stream",
     "text": [
      "enter data of nodes: \n"
     ]
    },
    {
     "name": "stdin",
     "output_type": "stream",
     "text": [
      " 6 3 8 4 7\n"
     ]
    },
    {
     "name": "stdout",
     "output_type": "stream",
     "text": [
      "Inorder Traversal\n",
      "3\n",
      "4\n",
      "6\n",
      "7\n",
      "8\n",
      "Preorder Traversal\n",
      "6\n",
      "3\n",
      "4\n",
      "8\n",
      "7\n",
      "Postorder Traversal\n",
      "4\n",
      "3\n",
      "7\n",
      "8\n",
      "6\n"
     ]
    }
   ],
   "source": [
    "print('enter data of nodes: ')\n",
    "a=list(map(int,input().split()))\n",
    "r=node(a[0])\n",
    "for i in range(1,len(a)):\n",
    "    Insert(r,a[i])\n",
    "print('Inorder Traversal')\n",
    "inorder(r)\n",
    "print('Preorder Traversal')\n",
    "preorder(r)\n",
    "print('Postorder Traversal')\n",
    "postorder(r)"
   ]
  },
  {
   "cell_type": "code",
   "execution_count": 76,
   "metadata": {},
   "outputs": [],
   "source": [
    "# %load Traversal/levelorder.py\n",
    "# https://www.hackerrank.com/challenges/tree-level-order-traversal/problem\n",
    "def levelOrder(root):\n",
    "    queue=[root]\n",
    "    while queue:\n",
    "        print(queue[0].data,end=' ')\n",
    "        if queue[0].left:\n",
    "            queue.append(queue[0].left)\n",
    "        if queue[0].right:\n",
    "            queue.append(queue[0].right)\n",
    "        queue.pop(0)"
   ]
  },
  {
   "cell_type": "code",
   "execution_count": 77,
   "metadata": {},
   "outputs": [
    {
     "name": "stdout",
     "output_type": "stream",
     "text": [
      "6 3 8 4 7 "
     ]
    }
   ],
   "source": [
    "levelOrder(r)"
   ]
  },
  {
   "cell_type": "code",
   "execution_count": null,
   "metadata": {},
   "outputs": [],
   "source": []
  }
 ],
 "metadata": {
  "kernelspec": {
   "display_name": "Python 3",
   "language": "python",
   "name": "python3"
  },
  "language_info": {
   "codemirror_mode": {
    "name": "ipython",
    "version": 3
   },
   "file_extension": ".py",
   "mimetype": "text/x-python",
   "name": "python",
   "nbconvert_exporter": "python",
   "pygments_lexer": "ipython3",
   "version": "3.8.2"
  }
 },
 "nbformat": 4,
 "nbformat_minor": 4
}
