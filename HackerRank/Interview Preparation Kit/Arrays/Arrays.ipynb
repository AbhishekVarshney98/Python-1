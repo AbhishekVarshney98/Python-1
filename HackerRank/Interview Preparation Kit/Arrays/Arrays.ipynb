{
 "cells": [
  {
   "cell_type": "markdown",
   "metadata": {},
   "source": [
    "# 2D-Array-DS\n",
    "![](2D-Array-DS.png)"
   ]
  },
  {
   "cell_type": "code",
   "execution_count": null,
   "metadata": {},
   "outputs": [],
   "source": [
    "n="
   ]
  },
  {
   "cell_type": "code",
   "execution_count": null,
   "metadata": {},
   "outputs": [],
   "source": [
    "1 1 1 0 0 0\n",
    "0 1 0 0 0 0\n",
    "1 1 1 0 0 0\n",
    "0 0 2 4 4 0\n",
    "0 0 0 2 0 0\n",
    "0 0 1 2 4 0"
   ]
  },
  {
   "cell_type": "code",
   "execution_count": 4,
   "metadata": {},
   "outputs": [
    {
     "name": "stdin",
     "output_type": "stream",
     "text": [
      " 1 1 1 0 0 0\n",
      " 0 1 0 0 0 0\n",
      " 1 1 1 0 0 0\n",
      " 0 0 2 4 4 0\n",
      " 0 0 0 2 0 0\n",
      " 0 0 1 2 4 0\n"
     ]
    },
    {
     "name": "stdout",
     "output_type": "stream",
     "text": [
      "19\n"
     ]
    }
   ],
   "source": [
    "a=[]\n",
    "for _ in range(6):\n",
    "    a.append(list(map(int,input().split())))\n",
    "sum_a=-9999999\n",
    "for i in range(0,6-2):\n",
    "    for j in range(0,6-2):\n",
    "        temp=a[i][j]+a[i][j+1]+a[i][j+2]+a[i+1][j+1]+a[i+2][j]+a[i+2][j+1]+a[i+2][j+2]\n",
    "        if temp>sum_a:\n",
    "            sum_a=temp\n",
    "print(sum_a)"
   ]
  },
  {
   "cell_type": "markdown",
   "metadata": {},
   "source": [
    "# Arrays: Left Rotation\n",
    "![Arrays: Left Rotation](Arrays-Left-Rotation.png)"
   ]
  },
  {
   "cell_type": "code",
   "execution_count": 5,
   "metadata": {},
   "outputs": [
    {
     "name": "stdin",
     "output_type": "stream",
     "text": [
      " 5 4\n",
      " 1 2 3 4 5\n"
     ]
    },
    {
     "name": "stdout",
     "output_type": "stream",
     "text": [
      "[5, 1, 2, 3, 4]\n"
     ]
    }
   ],
   "source": [
    "a1,a2=input().split()\n",
    "a=list(map(int,input().split()))\n",
    "for i in range(int(a2)):\n",
    "    a.append(a.pop(0))\n",
    "print(a)"
   ]
  },
  {
   "cell_type": "markdown",
   "metadata": {},
   "source": [
    "# New Year Chaos\n",
    "![New Year Chaos](New-Year-Chaos.png)"
   ]
  },
  {
   "cell_type": "code",
   "execution_count": 23,
   "metadata": {},
   "outputs": [
    {
     "name": "stdin",
     "output_type": "stream",
     "text": [
      " 1\n",
      " 8\n",
      " 5 1 2 3 7 8 6 4\n"
     ]
    },
    {
     "name": "stdout",
     "output_type": "stream",
     "text": [
      "[5, 1, 2, 3, 7, 8, 6, 4]\n",
      "[5, 1, 2, 3, 7, 6, 4]\n",
      "[5, 1, 2, 3, 6, 4]\n",
      "Too chaotic\n"
     ]
    }
   ],
   "source": [
    "for _ in range(int(input())):\n",
    "    n=int(input())\n",
    "    a=list(map(int,input().split()))\n",
    "    if len(a)==1:\n",
    "        print(a[0])\n",
    "    else:\n",
    "        d=0\n",
    "        i=0\n",
    "        while i<n:\n",
    "            index_n=a.index(max(a))\n",
    "            if index_n==len(a):\n",
    "                a.remove(max(a))\n",
    "            else:\n",
    "                if (len(a)-index_n)<4:\n",
    "                    print(a)\n",
    "                    d+=(len(a)-index_n-1)\n",
    "                    a.remove(max(a))\n",
    "                else:\n",
    "                    print('Too chaotic')\n",
    "                    d=0\n",
    "                    break\n",
    "            i+=1\n",
    "        if d!=0:\n",
    "            print(d)"
   ]
  },
  {
   "cell_type": "code",
   "execution_count": 28,
   "metadata": {},
   "outputs": [
    {
     "name": "stdin",
     "output_type": "stream",
     "text": [
      " 1\n",
      " 8\n",
      " 5 1 2 3 7 8 6 4\n"
     ]
    },
    {
     "name": "stdout",
     "output_type": "stream",
     "text": [
      "Too chaotic\n"
     ]
    }
   ],
   "source": [
    "for _ in range(int(input())):\n",
    "    n=int(input())\n",
    "    q=list(map(int,input().split()))   \n",
    "    bribes = 0\n",
    "    for i in range(len(q)-1,-1,-1):\n",
    "        if q[i] - (i + 1) > 2:\n",
    "            print('Too chaotic')\n",
    "            bribes=0\n",
    "            break\n",
    "        for j in range(max(0, q[i] - 2),i):\n",
    "            if q[j] > q[i]:\n",
    "                bribes+=1\n",
    "    if bribes!=0:\n",
    "        print(bribes)"
   ]
  },
  {
   "cell_type": "code",
   "execution_count": 11,
   "metadata": {},
   "outputs": [
    {
     "data": {
      "text/plain": [
       "2"
      ]
     },
     "execution_count": 11,
     "metadata": {},
     "output_type": "execute_result"
    }
   ],
   "source": [
    "a.index(5)"
   ]
  },
  {
   "cell_type": "code",
   "execution_count": 12,
   "metadata": {},
   "outputs": [
    {
     "data": {
      "text/plain": [
       "5"
      ]
     },
     "execution_count": 12,
     "metadata": {},
     "output_type": "execute_result"
    }
   ],
   "source": [
    "len(a)"
   ]
  },
  {
   "cell_type": "code",
   "execution_count": 14,
   "metadata": {},
   "outputs": [
    {
     "data": {
      "text/plain": [
       "[]"
      ]
     },
     "execution_count": 14,
     "metadata": {},
     "output_type": "execute_result"
    }
   ],
   "source": [
    "a"
   ]
  },
  {
   "cell_type": "code",
   "execution_count": null,
   "metadata": {},
   "outputs": [],
   "source": []
  }
 ],
 "metadata": {
  "kernelspec": {
   "display_name": "Python 3",
   "language": "python",
   "name": "python3"
  },
  "language_info": {
   "codemirror_mode": {
    "name": "ipython",
    "version": 3
   },
   "file_extension": ".py",
   "mimetype": "text/x-python",
   "name": "python",
   "nbconvert_exporter": "python",
   "pygments_lexer": "ipython3",
   "version": "3.8.2"
  }
 },
 "nbformat": 4,
 "nbformat_minor": 4
}
