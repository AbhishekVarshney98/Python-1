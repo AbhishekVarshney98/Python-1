{
 "cells": [
  {
   "cell_type": "code",
   "execution_count": 10,
   "metadata": {},
   "outputs": [
    {
     "name": "stdout",
     "output_type": "stream",
     "text": [
      "2\n",
      "5\n",
      "4 2 1 5 3\n",
      "2 1 -1 3 -1\n",
      "6\n",
      "5 6 2 3 1 7\n",
      "-1 2 -1 1 -1 -1\n"
     ]
    }
   ],
   "source": [
    "#immediate smaller element -----> AMAZON\n",
    "#marks = 1, difficulty = Basic\n",
    "'''\n",
    "Given an integer array of size N. For each element in the array, check whether the right adjacent element (on the next immediate position) of the array is smaller. If next element is smaller, print that element. If not, then print -1.\n",
    "\n",
    "Input:\n",
    "The first line of input contains an integer T denoting the number of test cases. T testcases follow. Each testcase contains 2 lines of input:\n",
    "The first line contains an integer N, where N is the size of array.\n",
    "The second line contains N integers(elements of the array) sperated with spaces.\n",
    "\n",
    "Output:\n",
    "For each test case, print the next immediate smaller elements for each element in the array.\n",
    "\n",
    "Constraints:\n",
    "1 ≤ T ≤ 200\n",
    "1 ≤ N ≤ 107\n",
    "1 ≤ arr[i] ≤ 1000\n",
    "\n",
    "Example:\n",
    "Input\n",
    "2\n",
    "5\n",
    "4 2 1 5 3\n",
    "6\n",
    "5 6 2 3 1 7\n",
    "\n",
    "Output\n",
    "2 1 -1 3 -1\n",
    "-1 2 -1 1 -1 -1\n",
    "\n",
    "Explanation:\n",
    "Testcase 1: Array elements are 4, 2, 1, 5, 3. Next to 4 is 2 which is smaller, so we print 2. Next of 2 is 1 which is smaller, so we print 1. Next of 1 is 5 which is greater, so we print -1. Next of 5 is 3 which is smaller so we print 3.  Note that for last element, output is always going to be -1 because there is no element on right.\n",
    "'''\n",
    "n=int(input())\n",
    "for i in range(n):\n",
    "    m=int(input())\n",
    "    a=list(map(int,input().split()))\n",
    "    for j in range(m-1):\n",
    "        if j<m-1:\n",
    "            if a[j]>a[j+1]:\n",
    "                print(a[j+1],end=' ')\n",
    "            else:\n",
    "                print(-1,end=' ')\n",
    "    else:\n",
    "        print(-1)"
   ]
  },
  {
   "cell_type": "code",
   "execution_count": 2,
   "metadata": {},
   "outputs": [
    {
     "name": "stdout",
     "output_type": "stream",
     "text": [
      "2\n",
      "5\n",
      "1 2 3 4 5\n",
      "2\n",
      "3 4 5 1 2 \n",
      "1\n",
      "5\n",
      "1\n",
      "5 \n"
     ]
    }
   ],
   "source": [
    "#rotating an array --->  Codenation\n",
    "#marks = 1, difficulty = Basic\n",
    "'''\n",
    "Given an array of N size. The task is to rotate array by d elements where d is less than or equal to N.\n",
    "\n",
    "Input:\n",
    "The first line of input contains a single integer T denoting the number of test cases. Then T test cases follow. Each test case consist of three lines. The first line of each test case consists of an integer N, where N is the size of array.\n",
    "The second line of each test case contains N space separated integers denoting array elements. The third line of each test case contains \"d\" .\n",
    "\n",
    "Output:\n",
    "Corresponding to each test case, in a new line, print the modified array.\n",
    "\n",
    "Constraints:\n",
    "1 ≤ T ≤ 200\n",
    "1 ≤ N ≤ 200\n",
    "1 ≤ A[i] ≤ 1000\n",
    "\n",
    "Example:\n",
    "Input\n",
    "1\n",
    "5\n",
    "1 2 3 4 5\n",
    "2\n",
    "\n",
    "Output\n",
    "3 4 5 1 2\n",
    "'''\n",
    "for _ in range(int(input())):\n",
    "    m=int(input())\n",
    "    a=list(map(int,input().split()))\n",
    "    d=int(input())\n",
    "    for j in range(m-d):\n",
    "        print(a[j+d],end=' ')\n",
    "    for j in range(d):\n",
    "        print(a[j],end=' ')\n",
    "    print()"
   ]
  },
  {
   "cell_type": "code",
   "execution_count": 1,
   "metadata": {},
   "outputs": [
    {
     "name": "stdout",
     "output_type": "stream",
     "text": [
      "2\n",
      "5 2\n",
      "1 2 3 4 5\n",
      "3 4 5 1 2 \n",
      "10 3\n",
      "2 4 6 8 10 12 14 16 18 20\n",
      "8 10 12 14 16 18 20 2 4 6 \n"
     ]
    }
   ],
   "source": [
    "# Rotate Array ---> Amazon,MAQ Software\n",
    "# Difficulty: Basic   Marks: 1\n",
    "'''\n",
    "Given an unsorted array arr[] of size N, rotate it by D elements (clockwise). \n",
    "\n",
    "Input:\n",
    "The first line of the input contains T denoting the number of testcases. First line of eacg test case contains two space separated elements, N denoting the size of the array and an integer D denoting the number size of the rotation. Subsequent line will be the N space separated array elements.\n",
    "\n",
    "Output:\n",
    "For each testcase, in a new line, output the rotated array.\n",
    "\n",
    "Constraints:\n",
    "1 <= T <= 200\n",
    "1 <= N <= 107\n",
    "1 <= D <= N\n",
    "0 <= arr[i] <= 105\n",
    "\n",
    "Example:\n",
    "Input:\n",
    "2\n",
    "5 2\n",
    "1 2 3 4 5 \n",
    "10 3\n",
    "2 4 6 8 10 12 14 16 18 20\n",
    "\n",
    "Output:\n",
    "3 4 5 1 2\n",
    "8 10 12 14 16 18 20 2 4 6\n",
    "\n",
    "Explanation :\n",
    "Testcase 1: 1 2 3 4 5  when rotated by 2 elements, it becomes 3 4 5 1 2.\n",
    "'''\n",
    "for _ in range(int(input())):\n",
    "    m,d=tuple(map(int,(input().split())))\n",
    "    a=list(map(int,input().split()))\n",
    "    for j in range(m-d):\n",
    "        print(a[j+d],end=' ')\n",
    "    for j in range(d):\n",
    "        print(a[j],end=' ')\n",
    "    print()"
   ]
  },
  {
   "cell_type": "code",
   "execution_count": 39,
   "metadata": {},
   "outputs": [
    {
     "name": "stdout",
     "output_type": "stream",
     "text": [
      "3\n",
      "6\n",
      "16 17 4 3 5 2\n",
      "17 5 2 \n",
      "5\n",
      "1 2 3 4 0\n",
      "4 0 \n",
      "5\n",
      "7 4 5 7 3\n",
      "7 7 3 \n"
     ]
    }
   ],
   "source": [
    "# Leaders in an array ---> Amazon, Payu, Samsung\n",
    "# Difficulty: Easy   Marks: 2\n",
    "'''\n",
    "Given an array of positive integers. Your task is to find the leaders in the array.\n",
    "Note: An element of array is leader if it is greater than or equal to all the elements to its right side. Also, the rightmost element is always a leader. \n",
    "\n",
    "Input:\n",
    "The first line of input contains an integer T denoting the number of test cases. The description of T test cases follows.\n",
    "The first line of each test case contains a single integer N denoting the size of array.\n",
    "The second line contains N space-separated integers A1, A2, ..., AN denoting the elements of the array.\n",
    "\n",
    "Output:\n",
    "Print all the leaders.\n",
    "\n",
    "Constraints:\n",
    "1 <= T <= 100\n",
    "1 <= N <= 107\n",
    "0 <= Ai <= 107\n",
    "\n",
    "Example:\n",
    "Input:\n",
    "3\n",
    "6\n",
    "16 17 4 3 5 2\n",
    "5\n",
    "1 2 3 4 0\n",
    "5\n",
    "7 4 5 7 3\n",
    "Output:\n",
    "17 5 2\n",
    "4 0\n",
    "7 7 3\n",
    "\n",
    "Explanation:\n",
    "Testcase 3: All elements on the right of 7 (at index 0) are smaller than or equal to 7. Also, all the elements of right side of 7 (at index 3) are smaller than 7. And, the last element 3 is itself a leader since no elements are on its right.\n",
    "'''\n",
    "for _ in range(int(input())):\n",
    "    n=int(input())\n",
    "    a=list(map(int,input().split()))\n",
    "#     c=a.copy()\n",
    "#     for i in range(len(a)-1):\n",
    "#         for j in range(i+1,len(a)):\n",
    "#             if a[i]<a[j]:\n",
    "#                 c.remove(a[i])\n",
    "#                 break\n",
    "    c=[a[-1]]\n",
    "    for i in range(len(a)-2,-1,-1):\n",
    "        if a[i]>= c[-1]:\n",
    "            c.append(a[i])\n",
    "#     for i in c:\n",
    "#         print(i,end=' ')\n",
    "    print(*(c[::-1]),end='')\n",
    "    print()"
   ]
  },
  {
   "cell_type": "code",
   "execution_count": 1,
   "metadata": {},
   "outputs": [
    {
     "name": "stdout",
     "output_type": "stream",
     "text": [
      "1\n",
      "4\n",
      "1 2 3 4\n",
      "4 3 2 1\n"
     ]
    }
   ],
   "source": [
    "# Reverse an array ---> Infosys, Moonfrog Labs\n",
    "#  Difficulty: School   Marks: 0\n",
    "'''\n",
    "Given an array A of size N, print the reverse of it.\n",
    "\n",
    "Input:\n",
    "First line contains an integer denoting the test cases 'T'. T testcases follow. Each testcase contains two lines of input. First line contains N the size of the array A. The second line contains the elements of the array.\n",
    "\n",
    "Output:\n",
    "For each testcase, in a new line, print the array in reverse order.\n",
    "\n",
    "Constraints:\n",
    "1 <= T <= 100\n",
    "1 <= N <=100\n",
    "0 <= Ai <= 100\n",
    "\n",
    "Example:\n",
    "Input:\n",
    "1\n",
    "4\n",
    "1 2 3 4\n",
    "Output:\n",
    "4 3 2 1\n",
    "'''\n",
    "for _ in range(int(input())):\n",
    "    n=int(input())\n",
    "    a=list(map(int,input().split()))\n",
    "    a.reverse()\n",
    "    print(*a)"
   ]
  },
  {
   "cell_type": "code",
   "execution_count": 26,
   "metadata": {},
   "outputs": [
    {
     "name": "stdout",
     "output_type": "stream",
     "text": [
      "1\n",
      "6 2\n",
      "10 20 30 40 50 60\n",
      "20 10 40 30 60 50 "
     ]
    }
   ],
   "source": [
    "# Reverse array in groups ---> Amazon\n",
    "#  Difficulty: Basic   Marks: 1\n",
    "'''\n",
    "Given an array arr[] of positive integers of size N. Reverse every sub-array of K group elements.\n",
    "\n",
    "Input:\n",
    "The first line of input contains a single integer T denoting the number of test cases. Then T test cases follow. Each test case consist of two lines of input. The first line of each test case consists of an integer N(size of array) and an integer K separated by a space. The second line of each test case contains N space separated integers denoting the array elements.\n",
    "\n",
    "Output:\n",
    "For each test case, print the modified array.\n",
    "\n",
    "Constraints:\n",
    "1 ≤ T ≤ 200\n",
    "1 ≤ N, K ≤ 107\n",
    "1 ≤ A[i] ≤ 1018\n",
    "\n",
    "Example:\n",
    "Input\n",
    "2\n",
    "5 3\n",
    "1 2 3 4 5\n",
    "6 2\n",
    "10 20 30 40 50 60\n",
    "\n",
    "Output\n",
    "3 2 1 5 4\n",
    "20 10 40 30 60 50\n",
    "\n",
    "Explanation:\n",
    "Testcase 1: Reversing groups in size 3, first group consists of elements 1, 2, 3. Reversing this group, we have elements in order as 3, 2, 1.\n",
    "'''\n",
    "from math import ceil\n",
    "for i in range(int(input())):\n",
    "    n,k=map(int,input().split())\n",
    "    arr=list(map(int,input().split()))\n",
    "    arr[:k]=arr[k-1::-1] #i was having a bit difficulty in converting the first group inside the loop\n",
    "    for i in range(1,ceil(float(n)/k)):\n",
    "        arr[k*i:k*i+k]=arr[k*i+k-1:k*i-1:-1]\n",
    "    print(*arr)\n",
    "'''for _ in range(int(input())):\n",
    "    n1,n2=input().split()\n",
    "    a=list(map(int,input().split()))\n",
    "#     if int(n1)%int(n2)!=0:\n",
    "#         n2=int(n1)//int(n2)+1\n",
    "    j=int(n1)//int(n2)\n",
    "    for i in range(j):\n",
    "        c=[]\n",
    "        for k in range(int(n2)*i,int(n2)*(i+1)):\n",
    "            c.append(a[k])\n",
    "        print(*(c[::-1]),end=' ')\n",
    "    print('',*(a[:int(n2)*j-1:-1]),end='',sep=' ')\n",
    "    print()\n",
    "'''\n"
   ]
  },
  {
   "cell_type": "code",
   "execution_count": 7,
   "metadata": {},
   "outputs": [
    {
     "name": "stdout",
     "output_type": "stream",
     "text": [
      "2\n",
      "6\n",
      "7 10 4 3 20 15\n",
      "3\n",
      "7\n",
      "5\n",
      "7 10 4 20 15\n",
      "4\n",
      "15\n"
     ]
    }
   ],
   "source": [
    "# Kth smallest element --->  ABCO, Accolite, Amazon, Cisco, Hike, Microsoft, Snapdeal, VMWare\n",
    "#  Difficulty: Medium   Marks: 4\n",
    "'''\n",
    "Given an array arr[] and a number K where K is smaller than size of array, the task is to find the Kth smallest element in the given array. It is given that all array elements are distinct.\n",
    "\n",
    "Expected Time Complexity: O(n)\n",
    "\n",
    "Input:\n",
    "The first line of input contains an integer T, denoting the number of testcases. Then T test cases follow. Each test case consists of three lines. First line of each testcase contains an integer N denoting size of the array. Second line contains N space separated integer denoting elements of the array. Third line of the test case contains an integer K.\n",
    "\n",
    "Output:\n",
    "Corresponding to each test case, print the kth smallest element in a new line.\n",
    "\n",
    "Constraints:\n",
    "1 <= T <= 100\n",
    "1 <= N <= 105\n",
    "1 <= arr[i] <= 105\n",
    "1 <= K <= N\n",
    "\n",
    "Example:\n",
    "Input:\n",
    "2\n",
    "6\n",
    "7 10 4 3 20 15\n",
    "3\n",
    "5\n",
    "7 10 4 20 15\n",
    "4\n",
    "\n",
    "Output:\n",
    "7\n",
    "15\n",
    "\n",
    "Explanation:\n",
    "Testcase 1: 3rd smallest element in the given array is 7.\n",
    "'''\n",
    "for _ in range(int(input())):\n",
    "    n=int(input())\n",
    "    a=list(map(int,input().split()))\n",
    "    i=int(input())\n",
    "    a.sort()\n",
    "    print(a[i-1])"
   ]
  },
  {
   "cell_type": "code",
   "execution_count": 4,
   "metadata": {},
   "outputs": [
    {
     "name": "stdout",
     "output_type": "stream",
     "text": [
      "1\n",
      "5\n",
      "3 1 2 5 4\n",
      "5 3 1 4 2\n"
     ]
    }
   ],
   "source": [
    "# Print an array in Pendulum Arrangement --->  FactSet\n",
    "# Difficulty: Basic   Marks: 1\n",
    "'''\n",
    "Write a program to input a list of n integers in an array and arrange them in a way similar to the to-and-fro movement of a Pendulum.\n",
    "\n",
    "The minimum element out of the list of integers, must come in center position of array. If there are even elements, then minimum element should be moved to (n-1)/2 index (considering that indexes start from 0)\n",
    "The next number (next to minimum) in the ascending order, goes to the right, the next to next number goes to the left of minimum number and it continues like a Pendulum.\n",
    "Input:\n",
    "The first line of input contains an integer T denoting the number of test cases. Then T test cases follow. Each test case contains an integer n denoting the size of the array. Then next line contains N space separated integers forming the array.\n",
    "\n",
    "Output:\n",
    "Output the array in Pendulum Arrangement.\n",
    "\n",
    "Constraints:\n",
    "1<=T<=500\n",
    "1<=N<=100\n",
    "1<=a[i]<=1000\n",
    "\n",
    "Example:\n",
    "Input:\n",
    "2\n",
    "5\n",
    "1 3 2 5 4\n",
    "5\n",
    "11 12 31 14 5\n",
    "\n",
    "Output:\n",
    "5 3 1 2 4\n",
    "31 12 5 11 14\n",
    "'''\n",
    "for _ in range(int(input())):\n",
    "    n=int(input())\n",
    "    a=list(map(int,input().split()))\n",
    "    a.sort(reverse=True)\n",
    "    if len(a)%2!=0:\n",
    "        print(*(a[::2]),end=' ')\n",
    "    else:\n",
    "        print(*(a[1::2]),end=' ')\n",
    "    print(*(a[-2::-2]))"
   ]
  },
  {
   "cell_type": "code",
   "execution_count": 4,
   "metadata": {},
   "outputs": [
    {
     "name": "stdout",
     "output_type": "stream",
     "text": [
      "1\n",
      "86 41\n",
      "3 4 5 6 7 8 9 10 11 12 13 14 15 16 17 19 21 22 23 24 25 27 28 29 30 31 32 33 34 35 36 39 40 42 43 45 46 47 48 49 50 51 52 53 55 56 57 58 59 60 61 62 63 64 65 66 67 68 69 70 71 72 74 75 76 78 79 81 82 84 85 87 88 89 90 91 92 93 95 96 97 98 99 100 101 102\n",
      "42\n"
     ]
    }
   ],
   "source": [
    "# Find the closest number\n",
    "# Difficulty: Basic   Marks: 1\n",
    "'''\n",
    "Given an array of sorted integers. The task is to find the closest value to the given number in array. Array may contain duplicate values.\n",
    "\n",
    "Note: If the difference is same for two values print the value which is greater than the given number.\n",
    "\n",
    "Input:\n",
    "The first line of input contains an integer T denoting the number of test cases. Then T test cases follow. Each test case consists of two lines. First line of each test case contains two integers N & K and the second line contains N space separated array elements.\n",
    "\n",
    "Output:\n",
    "For each test case, print the closest number in new line.\n",
    "\n",
    "Constraints:\n",
    "1<=T<=100\n",
    "1<=N<=105\n",
    "1<=K<=105\n",
    "1<=A[i]<=105\n",
    "\n",
    "Example:\n",
    "Input:\n",
    "2\n",
    "4 4\n",
    "1 3 6 7\n",
    "7 4\n",
    "1 2 3 5 6 8 9\n",
    "\n",
    "Output:\n",
    "3\n",
    "5\n",
    "'''\n",
    "for _ in range(int(input())):\n",
    "    n1,n2=map(int,input().split())\n",
    "    a=list(map(int,input().split()))\n",
    "    a.append(n2)\n",
    "    a.sort()\n",
    "    for i in range(len(a)):\n",
    "        if a[-1]==n2:\n",
    "            print(a[-2])\n",
    "            break\n",
    "        else:\n",
    "            if a[i]==n2:\n",
    "                if a[i+1]==n2:\n",
    "                    print(n2)\n",
    "                    break\n",
    "                else:\n",
    "                    if abs(n2-a[i+1])==abs(n2-a[i-1]):\n",
    "                        print(a[i+1])\n",
    "                        break\n",
    "                    else:\n",
    "                        if abs(n2-a[i+1])>abs(n2-a[i-1]):\n",
    "                            print(a[i-1])\n",
    "                            break\n",
    "                        else:\n",
    "                            print(a[i+1])\n",
    "                            break"
   ]
  },
  {
   "cell_type": "code",
   "execution_count": 3,
   "metadata": {},
   "outputs": [
    {
     "name": "stdout",
     "output_type": "stream",
     "text": [
      "1\n",
      "7\n",
      "1 2 3 5 4 7 10\n",
      "7 5 3 1 2 4 10"
     ]
    }
   ],
   "source": [
    "# Sort in specific order  ---> Microsoft, Zoho\n",
    "# Difficulty: Basic   Marks: 1\n",
    "'''\n",
    "Given an array A of positive integers. Your task is to sort them in such a way that the first part of the array contains odd numbers sorted in descending order, rest portion contains even numbers sorted in ascending order.\n",
    "\n",
    "Input:\n",
    "The first line of input contains an integer T denoting the number of test cases. Then T test cases follow. Each test case contains an integer N denoting the size of the array. The next line contains N space separated values of the array.\n",
    "\n",
    "Output:\n",
    "For each test case in a new line print the space separated values of the modified array.\n",
    "\n",
    "Constraints:\n",
    "1 <= T <= 103\n",
    "1 <= N <= 107\n",
    "0 <= Ai <= 1018\n",
    "\n",
    "Example:\n",
    "Input:\n",
    "2\n",
    "7\n",
    "1 2 3 5 4 7 10\n",
    "7\n",
    "0 4 5 3 7 2 1\n",
    "\n",
    "Output:\n",
    "7 5 3 1 2 4 10\n",
    "7 5 3 1 0 2 4\n",
    "\n",
    "Explanation:\n",
    "Testcase1: Array elements 7 5 3 1 are odd and sorted in descending order, whereas 2 4 10 are even numbers and sorted in ascending order.\n",
    "'''\n",
    "for _ in range(int(input())):\n",
    "    n=int(input())\n",
    "    a=list(map(int,input().split()))\n",
    "    a.sort()\n",
    "    odd=[]\n",
    "    even=[]\n",
    "    for i in a:\n",
    "        if i%2==0:\n",
    "            even.append(i)\n",
    "        else:\n",
    "            odd.append(i)\n",
    "    print(*(odd[-1::-1]),end=' ',sep=' ')\n",
    "    print(*(even[::1]),end='\\n',sep=' ')"
   ]
  },
  {
   "cell_type": "code",
   "execution_count": 5,
   "metadata": {},
   "outputs": [
    {
     "name": "stdout",
     "output_type": "stream",
     "text": [
      "2\n",
      "8\n",
      "3 4 1 9 56 7 9 12\n",
      "5\n",
      "6\n",
      "7\n",
      "7 3 2 4 9 12 56\n",
      "3\n",
      "2\n"
     ]
    }
   ],
   "source": [
    "# Chocolate Distribution Problem ---> Flipkart\n",
    "#  Difficulty: Easy   Marks: 2\n",
    "'''\n",
    "Given an array A of positive integers of size N, where each value represents number of chocolates in a packet. Each packet can have variable number of chocolates. There are M students, the task is to distribute chocolate packets such that :\n",
    "1. Each student gets one packet.\n",
    "2. The difference between the number of chocolates given to the students having packet with maximum chocolates and student having packet with minimum chocolates is minimum.\n",
    "\n",
    "Input:\n",
    "The first line of input contains an integer T, denoting the number of test cases. Then T test cases follow. Each test case consists of three lines. The first line of each test case contains an integer N denoting the number of packets. Then next line contains N space separated values of the array A denoting the values of each packet. The third line of each test case contains an integer m denoting the no of students.\n",
    "\n",
    "Output:\n",
    "For each test case in a new line print the minimum difference.\n",
    "\n",
    "Constraints:\n",
    "1 <= T <= 100\n",
    "1 <=N<= 107\n",
    "1 <= Ai <= 1018\n",
    "1 <= M <= N\n",
    "\n",
    "Example:\n",
    "Input:\n",
    "2\n",
    "8\n",
    "3 4 1 9 56 7 9 12\n",
    "5\n",
    "7\n",
    "7 3 2 4 9 12 56\n",
    "3\n",
    "\n",
    "Output:\n",
    "6\n",
    "2\n",
    "\n",
    "Explanation:\n",
    "Testcase 1: The minimum difference between maximum chocolates and minimum chocolates is 9-3=6\n",
    "'''\n",
    "for _ in range(int(input())):\n",
    "    n=int(input())\n",
    "    a=list(map(int,input().split()))\n",
    "    d=int(input())\n",
    "    a.sort()\n",
    "    min=abs(a[0]-a[d-1])\n",
    "    for i in range(1,len(a)-d+1):\n",
    "        if abs(a[i]-a[d-1+i])<min:\n",
    "            min=abs(a[i]-a[d-1+i])\n",
    "    print(min)"
   ]
  },
  {
   "cell_type": "code",
   "execution_count": 5,
   "metadata": {},
   "outputs": [
    {
     "name": "stdout",
     "output_type": "stream",
     "text": [
      "2\n",
      "7\n",
      "100 180 260 310 40 535 695\n",
      "(0 3) (4 6) \n",
      "10\n",
      "23 13 25 29 33 19 34 45 65 67\n",
      "(1 4) (5 9) \n"
     ]
    }
   ],
   "source": [
    "# Stock buy and sell ---> Accolite, Amazon, D-E-Shaw, Directi, Facebook, Flipkart, Goldman Sachs, Hike, Intuit, MakeMyTrip, Microsoft, Morgan Stanley, Ola Cabs, Oracle, Paytm, Pubmatic, Quikr, SalesForce, Samsung, SAP Labs, Sapient, Swiggy, Walmart\n",
    "# Difficulty: Medium   Marks: 4\n",
    "'''\n",
    "The cost of stock on each day is given in an array A[] of size N. Find all the days on which you buy and sell the stock so that in between those days your profit is maximum.\n",
    "\n",
    "Input: \n",
    "First line contains number of test cases T. First line of each test case contains an integer value N denoting the number of days, followed by an array of stock prices of N days. \n",
    "\n",
    "Output:\n",
    "For each testcase, output all the days with profit in a single line. And if there is no profit then print \"No Profit\".\n",
    "\n",
    "Constraints:\n",
    "1 <= T <= 100\n",
    "2 <= N <= 103\n",
    "0 <= Ai <= 104\n",
    "\n",
    "Example\n",
    "Input:\n",
    "2\n",
    "7\n",
    "100 180 260 310 40 535 695\n",
    "10\n",
    "23 13 25 29 33 19 34 45 65 67\n",
    "\n",
    "Output:\n",
    "(0 3) (4 6)\n",
    "(1 4) (5 9)\n",
    "\n",
    "Explanation:\n",
    "Testcase 1: We can buy stock on day 0, and sell it on 3rd day, which will give us maximum profit.\n",
    "\n",
    "Note: Output format is as follows - (buy_day sell_day) (buy_day sell_day)\n",
    "For each input, output should be in a single line.\n",
    "'''\n",
    "for _ in range(int(input())):\n",
    "    n=int(input())\n",
    "    a=list(map(int,input().split()))\n",
    "    min_=[]\n",
    "    max_=[]\n",
    "    c=0\n",
    "    for i in range(len(a)-1):\n",
    "        if c==0:\n",
    "            if a[i]<a[i+1]:\n",
    "                min_.append(i)\n",
    "                c+=1\n",
    "        else:\n",
    "            if a[i]>a[i+1]:\n",
    "                max_.append(i)\n",
    "                c-=1\n",
    "    if len(min_)!=len(max_):\n",
    "        max_.append(len(a)-1)\n",
    "    if len(min_)>0:\n",
    "        for i in range(len(min_)):\n",
    "            print(\"(\",min_[i],\" \",max_[i],\")\",sep=\"\",end=\" \")\n",
    "        print()\n",
    "    else:\n",
    "        print('No Profit')"
   ]
  },
  {
   "cell_type": "code",
   "execution_count": 1,
   "metadata": {},
   "outputs": [
    {
     "name": "stdout",
     "output_type": "stream",
     "text": [
      "1\n",
      "4\n",
      "4 2 5 7\n",
      "5\n"
     ]
    }
   ],
   "source": [
    "# Element with left side smaller and right side greater ---> Amazon, Intuit, OYO Rooms, Zoho\n",
    "# Difficulty: Easy   Marks: 2\n",
    "for _ in range(int(input())):\n",
    "    n=int(input())\n",
    "    a=list(map(int,input().split()))\n",
    "    a1=a.copy()\n",
    "    for i in range(len(a)):\n",
    "        for j,k in zip(range(i+1,len(a),1),range(i-1,-1,-1)):\n",
    "            if a[i]>a[j]:\n",
    "                a1.remove(a[i])\n",
    "                break\n",
    "            if a[i]<a[k]:\n",
    "                a1.remove(a[i])\n",
    "                break\n",
    "    else:\n",
    "        for i in a:\n",
    "            if a1[0]>i:\n",
    "                a1.remove(a1[0])\n",
    "        else:\n",
    "            print(a1[0])"
   ]
  },
  {
   "cell_type": "code",
   "execution_count": 30,
   "metadata": {},
   "outputs": [
    {
     "data": {
      "text/plain": [
       "[4, 5, 7]"
      ]
     },
     "execution_count": 30,
     "metadata": {},
     "output_type": "execute_result"
    }
   ],
   "source": [
    "a1"
   ]
  },
  {
   "cell_type": "code",
   "execution_count": 8,
   "metadata": {},
   "outputs": [
    {
     "name": "stdout",
     "output_type": "stream",
     "text": [
      "1\n",
      "7\n",
      "7 13 10 2 3 8 11 12 17 18 19  20\n",
      "12\n"
     ]
    }
   ],
   "source": [
    "for _ in range(int(input())):\n",
    "    n=int(input())\n",
    "    a=list(map(int,input().split()))\n",
    "    a1=a.copy()\n",
    "    for i in range(len(a)):\n",
    "        for j,k in zip(range(i+1,len(a),1),range(i-1,-1,-1)):\n",
    "            if a[i]>a[j]:\n",
    "                a1.remove(a[i])\n",
    "                break\n",
    "            if a[i]<a[k]:\n",
    "                a1.remove(a[i])\n",
    "                break\n",
    "            if a1[0]>a[i]:\n",
    "                a1.remove(a1[0])\n",
    "    else:\n",
    "        if len(a1)==0:\n",
    "            print(-1)\n",
    "        else:\n",
    "            print(a1[0])"
   ]
  },
  {
   "cell_type": "code",
   "execution_count": 9,
   "metadata": {},
   "outputs": [
    {
     "data": {
      "text/plain": [
       "[12, 17, 18, 19, 20]"
      ]
     },
     "execution_count": 9,
     "metadata": {},
     "output_type": "execute_result"
    }
   ],
   "source": [
    "a1"
   ]
  },
  {
   "cell_type": "code",
   "execution_count": 11,
   "metadata": {},
   "outputs": [
    {
     "name": "stdout",
     "output_type": "stream",
     "text": [
      "1\n",
      "ere.ereaas.tge.sdds\n"
     ]
    }
   ],
   "source": [
    "for _ in range(int(input())):\n",
    "    a=input().split('.')\n",
    "    for i in range(len(a)-1,-1,-1):\n",
    "        if i>0:\n",
    "            print(a[i],end='.')\n",
    "        if i==0:\n",
    "            print(a[i])"
   ]
  },
  {
   "cell_type": "code",
   "execution_count": 12,
   "metadata": {},
   "outputs": [
    {
     "data": {
      "text/plain": [
       "['ere', 'ereaas', 'tge', 'sdds']"
      ]
     },
     "execution_count": 12,
     "metadata": {},
     "output_type": "execute_result"
    }
   ],
   "source": [
    "a"
   ]
  },
  {
   "cell_type": "code",
   "execution_count": 22,
   "metadata": {},
   "outputs": [
    {
     "name": "stdout",
     "output_type": "stream",
     "text": [
      "sdds.tge.ereaas.ere\n"
     ]
    }
   ],
   "source": [
    "for i in range(len(a)-1,-1,-1):\n",
    "    if i>0:\n",
    "        print(a[i],end='.')\n",
    "    if i==0:\n",
    "        print(a[i])"
   ]
  },
  {
   "cell_type": "code",
   "execution_count": 20,
   "metadata": {},
   "outputs": [
    {
     "data": {
      "text/plain": [
       "4"
      ]
     },
     "execution_count": 20,
     "metadata": {},
     "output_type": "execute_result"
    }
   ],
   "source": [
    "len(a)"
   ]
  },
  {
   "cell_type": "code",
   "execution_count": 23,
   "metadata": {},
   "outputs": [
    {
     "data": {
      "text/plain": [
       "0"
      ]
     },
     "execution_count": 23,
     "metadata": {},
     "output_type": "execute_result"
    }
   ],
   "source": [
    "5256575657505256%7"
   ]
  },
  {
   "cell_type": "code",
   "execution_count": 25,
   "metadata": {},
   "outputs": [
    {
     "name": "stdout",
     "output_type": "stream",
     "text": [
      "2\n",
      "YX  X  XXY\n"
     ]
    },
    {
     "ename": "NameError",
     "evalue": "name 'isInterleave' is not defined",
     "output_type": "error",
     "traceback": [
      "\u001b[0;31m---------------------------------------------------------------------------\u001b[0m",
      "\u001b[0;31mNameError\u001b[0m                                 Traceback (most recent call last)",
      "\u001b[0;32m<ipython-input-25-a3cbcb7f325b>\u001b[0m in \u001b[0;36m<module>\u001b[0;34m()\u001b[0m\n\u001b[1;32m      5\u001b[0m     \u001b[0;32mfor\u001b[0m \u001b[0mi\u001b[0m \u001b[0;32min\u001b[0m \u001b[0mrange\u001b[0m\u001b[0;34m(\u001b[0m\u001b[0mt\u001b[0m\u001b[0;34m)\u001b[0m\u001b[0;34m:\u001b[0m\u001b[0;34m\u001b[0m\u001b[0;34m\u001b[0m\u001b[0m\n\u001b[1;32m      6\u001b[0m         \u001b[0marr\u001b[0m\u001b[0;34m=\u001b[0m\u001b[0minput\u001b[0m\u001b[0;34m(\u001b[0m\u001b[0;34m)\u001b[0m\u001b[0;34m.\u001b[0m\u001b[0mstrip\u001b[0m\u001b[0;34m(\u001b[0m\u001b[0;34m)\u001b[0m\u001b[0;34m.\u001b[0m\u001b[0msplit\u001b[0m\u001b[0;34m(\u001b[0m\u001b[0;34m)\u001b[0m\u001b[0;34m\u001b[0m\u001b[0;34m\u001b[0m\u001b[0m\n\u001b[0;32m----> 7\u001b[0;31m         \u001b[0;32mif\u001b[0m \u001b[0misInterleave\u001b[0m\u001b[0;34m(\u001b[0m\u001b[0marr\u001b[0m\u001b[0;34m[\u001b[0m\u001b[0;36m0\u001b[0m\u001b[0;34m]\u001b[0m\u001b[0;34m,\u001b[0m \u001b[0marr\u001b[0m\u001b[0;34m[\u001b[0m\u001b[0;36m1\u001b[0m\u001b[0;34m]\u001b[0m\u001b[0;34m,\u001b[0m \u001b[0marr\u001b[0m\u001b[0;34m[\u001b[0m\u001b[0;36m2\u001b[0m\u001b[0;34m]\u001b[0m\u001b[0;34m)\u001b[0m\u001b[0;34m:\u001b[0m\u001b[0;34m\u001b[0m\u001b[0;34m\u001b[0m\u001b[0m\n\u001b[0m\u001b[1;32m      8\u001b[0m             \u001b[0mprint\u001b[0m\u001b[0;34m(\u001b[0m\u001b[0;36m1\u001b[0m\u001b[0;34m)\u001b[0m\u001b[0;34m\u001b[0m\u001b[0;34m\u001b[0m\u001b[0m\n\u001b[1;32m      9\u001b[0m         \u001b[0;32melse\u001b[0m\u001b[0;34m:\u001b[0m\u001b[0;34m\u001b[0m\u001b[0;34m\u001b[0m\u001b[0m\n",
      "\u001b[0;31mNameError\u001b[0m: name 'isInterleave' is not defined"
     ]
    }
   ],
   "source": [
    "\n",
    "# Your code goes here\n",
    "if __name__=='__main__':\n",
    "    t = int(input())\n",
    "    for i in range(t):\n",
    "        arr=input().strip().split()\n",
    "        if isInterleave(arr[0], arr[1], arr[2]):\n",
    "            print(1)\n",
    "        else:\n",
    "            print(0)\n",
    "''' This is a function problem.You only need to complete the function given below '''\n",
    "#Your task is to complete this Function \\\n",
    "#function should return True/False\n",
    "def isInterleave(A, B, C):\n",
    "    # Code here\n",
    "    if A in C and B in C:\n",
    "        return 1\n",
    "    else:\n",
    "        return -1\n"
   ]
  },
  {
   "cell_type": "code",
   "execution_count": 4,
   "metadata": {},
   "outputs": [
    {
     "name": "stdout",
     "output_type": "stream",
     "text": [
      "1\n",
      "4\n",
      "4 2 5 7\n",
      "4\n",
      "2\n",
      "5\n",
      "5\n",
      "5\n"
     ]
    }
   ],
   "source": [
    "for i in range(int(input())):\n",
    "    n=int(input())\n",
    "    l=list(map(int,input().split()))\n",
    "    for j in range(1,len(l)-1):\n",
    "        max1=max(l[:j+1])\n",
    "        min1=min(l[j:])\n",
    "        if max1==l[j] and min1==l[j]:\n",
    "            print(l[j])\n",
    "            break"
   ]
  },
  {
   "cell_type": "code",
   "execution_count": null,
   "metadata": {},
   "outputs": [],
   "source": []
  }
 ],
 "metadata": {
  "kernelspec": {
   "display_name": "Python 3",
   "language": "python",
   "name": "python3"
  },
  "language_info": {
   "codemirror_mode": {
    "name": "ipython",
    "version": 3
   },
   "file_extension": ".py",
   "mimetype": "text/x-python",
   "name": "python",
   "nbconvert_exporter": "python",
   "pygments_lexer": "ipython3",
   "version": "3.7.5"
  }
 },
 "nbformat": 4,
 "nbformat_minor": 2
}
