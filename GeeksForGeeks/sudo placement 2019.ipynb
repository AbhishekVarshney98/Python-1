{
 "cells": [
  {
   "cell_type": "code",
   "execution_count": 10,
   "metadata": {},
   "outputs": [
    {
     "name": "stdout",
     "output_type": "stream",
     "text": [
      "2\n",
      "5\n",
      "4 2 1 5 3\n",
      "2 1 -1 3 -1\n",
      "6\n",
      "5 6 2 3 1 7\n",
      "-1 2 -1 1 -1 -1\n"
     ]
    }
   ],
   "source": [
    "#immediate smaller element -----> AMAZON\n",
    "#marks = 1, difficulty = Basic\n",
    "'''\n",
    "Given an integer array of size N. For each element in the array, check whether the right adjacent element (on the next immediate position) of the array is smaller. If next element is smaller, print that element. If not, then print -1.\n",
    "\n",
    "Input:\n",
    "The first line of input contains an integer T denoting the number of test cases. T testcases follow. Each testcase contains 2 lines of input:\n",
    "The first line contains an integer N, where N is the size of array.\n",
    "The second line contains N integers(elements of the array) sperated with spaces.\n",
    "\n",
    "Output:\n",
    "For each test case, print the next immediate smaller elements for each element in the array.\n",
    "\n",
    "Constraints:\n",
    "1 ≤ T ≤ 200\n",
    "1 ≤ N ≤ 107\n",
    "1 ≤ arr[i] ≤ 1000\n",
    "\n",
    "Example:\n",
    "Input\n",
    "2\n",
    "5\n",
    "4 2 1 5 3\n",
    "6\n",
    "5 6 2 3 1 7\n",
    "\n",
    "Output\n",
    "2 1 -1 3 -1\n",
    "-1 2 -1 1 -1 -1\n",
    "\n",
    "Explanation:\n",
    "Testcase 1: Array elements are 4, 2, 1, 5, 3. Next to 4 is 2 which is smaller, so we print 2. Next of 2 is 1 which is smaller, so we print 1. Next of 1 is 5 which is greater, so we print -1. Next of 5 is 3 which is smaller so we print 3.  Note that for last element, output is always going to be -1 because there is no element on right.\n",
    "'''\n",
    "n=int(input())\n",
    "for i in range(n):\n",
    "    m=int(input())\n",
    "    a=list(map(int,input().split()))\n",
    "    for j in range(m-1):\n",
    "        if j<m-1:\n",
    "            if a[j]>a[j+1]:\n",
    "                print(a[j+1],end=' ')\n",
    "            else:\n",
    "                print(-1,end=' ')\n",
    "    else:\n",
    "        print(-1)"
   ]
  },
  {
   "cell_type": "code",
   "execution_count": 2,
   "metadata": {},
   "outputs": [
    {
     "name": "stdout",
     "output_type": "stream",
     "text": [
      "2\n",
      "5\n",
      "1 2 3 4 5\n",
      "2\n",
      "3 4 5 1 2 \n",
      "1\n",
      "5\n",
      "1\n",
      "5 \n"
     ]
    }
   ],
   "source": [
    "#rotating an array --->  Codenation\n",
    "#marks = 1, difficulty = Basic\n",
    "'''\n",
    "Given an array of N size. The task is to rotate array by d elements where d is less than or equal to N.\n",
    "\n",
    "Input:\n",
    "The first line of input contains a single integer T denoting the number of test cases. Then T test cases follow. Each test case consist of three lines. The first line of each test case consists of an integer N, where N is the size of array.\n",
    "The second line of each test case contains N space separated integers denoting array elements. The third line of each test case contains \"d\" .\n",
    "\n",
    "Output:\n",
    "Corresponding to each test case, in a new line, print the modified array.\n",
    "\n",
    "Constraints:\n",
    "1 ≤ T ≤ 200\n",
    "1 ≤ N ≤ 200\n",
    "1 ≤ A[i] ≤ 1000\n",
    "\n",
    "Example:\n",
    "Input\n",
    "1\n",
    "5\n",
    "1 2 3 4 5\n",
    "2\n",
    "\n",
    "Output\n",
    "3 4 5 1 2\n",
    "'''\n",
    "for _ in range(int(input())):\n",
    "    m=int(input())\n",
    "    a=list(map(int,input().split()))\n",
    "    d=int(input())\n",
    "    for j in range(m-d):\n",
    "        print(a[j+d],end=' ')\n",
    "    for j in range(d):\n",
    "        print(a[j],end=' ')\n",
    "    print()"
   ]
  },
  {
   "cell_type": "code",
   "execution_count": null,
   "metadata": {},
   "outputs": [],
   "source": []
  }
 ],
 "metadata": {
  "kernelspec": {
   "display_name": "Python 3",
   "language": "python",
   "name": "python3"
  },
  "language_info": {
   "codemirror_mode": {
    "name": "ipython",
    "version": 3
   },
   "file_extension": ".py",
   "mimetype": "text/x-python",
   "name": "python",
   "nbconvert_exporter": "python",
   "pygments_lexer": "ipython3",
   "version": "3.7.5"
  }
 },
 "nbformat": 4,
 "nbformat_minor": 2
}
