{
 "cells": [
  {
   "cell_type": "markdown",
   "metadata": {},
   "source": [
    "n=b"
   ]
  },
  {
   "cell_type": "code",
   "execution_count": 13,
   "metadata": {},
   "outputs": [
    {
     "name": "stdout",
     "output_type": "stream",
     "text": [
      "2\n",
      "2\n",
      "00000000000010\n",
      "4\n",
      "00000000000100\n"
     ]
    }
   ],
   "source": [
    "# Binary representation ---> Microsoft\n",
    "# Difficulty: School   Marks: 0\n",
    "'''\n",
    "Write a program to print Binary representation of a given number N.\n",
    "\n",
    "Input:\n",
    "The first line of input contains an integer T, denoting the number of test cases. Each test case contains an integer N.\n",
    "\n",
    "Output:\n",
    "For each test case, print the binary representation of the number N in 14 bits.\n",
    "\n",
    "Constraints:\n",
    "1 ≤ T ≤ 100\n",
    "1 ≤ N ≤ 5000\n",
    "\n",
    "Example:\n",
    "Input:\n",
    "2\n",
    "2\n",
    "5\n",
    "\n",
    "Output:\n",
    "00000000000010\n",
    "00000000000101\n",
    "'''\n",
    "\n",
    "for _ in range(int(input())):\n",
    "    n=int(input())\n",
    "    x=bin(n).split('b')[1]\n",
    "    print('0'*(14-len(x))+x)"
   ]
  },
  {
   "cell_type": "code",
   "execution_count": 17,
   "metadata": {},
   "outputs": [
    {
     "name": "stdout",
     "output_type": "stream",
     "text": [
      "1\n",
      "3\n",
      "1 1 1\n",
      "1 "
     ]
    }
   ],
   "source": [
    "# Alone in couple ---> Ola Cabs\n",
    "# Difficulty: School   Marks: 0\n",
    "'''\n",
    "In a party everyone is in couple except one. People who are in couple have same numbers. Find out the person who is not in couple.\n",
    "\n",
    "Input:\n",
    "The first line contains an integer 'T' denoting the total number of test cases. In each test cases, the first line contains an integer 'N' denoting the size of array. The second line contains N space-separated integers A1, A2, ..., AN denoting the elements of the array. (N is always odd)\n",
    "\n",
    "\n",
    "Output:\n",
    "In each seperate line print number of the person not in couple.\n",
    "\n",
    "\n",
    "Constraints:\n",
    "1<=T<=30\n",
    "1<=N<=500\n",
    "1<=A[i]<=500\n",
    "N%2==1\n",
    "\n",
    "\n",
    "Example:\n",
    "Input:\n",
    "1\n",
    "5\n",
    "1 2 3 2 1\n",
    "\n",
    "Output:\n",
    "3\n",
    "'''\n",
    "\n",
    "for _ in range(int(input())):\n",
    "    n=int(input())\n",
    "    s=input()\n",
    "    a=''\n",
    "    for i in s:\n",
    "        if s.count(i)%2==1 and i not in a:\n",
    "            a=i\n",
    "            print(i,end=' ')"
   ]
  },
  {
   "cell_type": "code",
   "execution_count": 22,
   "metadata": {},
   "outputs": [
    {
     "name": "stdout",
     "output_type": "stream",
     "text": [
      "2\n",
      "4\n",
      "5\n",
      "17\n",
      "35\n"
     ]
    }
   ],
   "source": [
    "# Count total set bits ---> Amazon,Adobe\n",
    "# Difficulty: Basic   Marks: 1\n",
    "'''\n",
    "You are given a number N. Find the total count of set bits for all numbers from 1 to N(both inclusive).\n",
    "\n",
    "Input:\n",
    "The first line of input contains an integer T denoting the number of test cases. T testcases follow. The first line of each test case is N.\n",
    "\n",
    "Output:\n",
    "For each testcase, in a new line, print the total count of all bits.\n",
    "\n",
    "Constraints:\n",
    "1 ≤ T ≤ 100\n",
    "1 ≤ N ≤ 103\n",
    "\n",
    "Example:\n",
    "Input:\n",
    "2\n",
    "4\n",
    "17\n",
    "Output:\n",
    "5\n",
    "35\n",
    "\n",
    "Explanation:\n",
    "Testcase1:\n",
    "An easy way to look at it is to consider the number, n = 4:\n",
    "0 0 0 = 0\n",
    "0 0 1 = 1\n",
    "0 1 0 = 1\n",
    "0 1 1 = 2\n",
    "1 0 0 = 1\n",
    "Therefore , the total number of bits is 5.\n",
    "'''\n",
    "for _ in range(int(input())):\n",
    "    n=int(input())\n",
    "    s=0\n",
    "    for i in range(n+1):\n",
    "        s+=bin(i).split('b')[1].count('1')\n",
    "    print(s)"
   ]
  },
  {
   "cell_type": "markdown",
   "metadata": {},
   "source": [
    "***IMP***"
   ]
  },
  {
   "cell_type": "code",
   "execution_count": 91,
   "metadata": {},
   "outputs": [
    {
     "name": "stdout",
     "output_type": "stream",
     "text": [
      "2\n",
      "17 2 3\n",
      "23\n",
      "50 2 5\n",
      "44\n"
     ]
    }
   ],
   "source": [
    "# ------------------------------------------IMP---------------------------------------\n",
    "\"https://practice.geeksforgeeks.org/problems/toggle-bits-given-range/0/?track=sp-bit-magic&batchId=152\"\n",
    "# Toggle bits given range \n",
    "# Difficulty: Basic   Marks: 1\n",
    "\n",
    "'''\n",
    "Given a non-negative number N and two values L and R. The problem is to toggle the bits in the range L to R in the binary representation of N, i.e, to toggle bits from the rightmost Lth bit to the rightmost Rth bit. A toggle operation flips a bit 0 to 1 and a bit 1 to 0.\n",
    "\n",
    "Input:\n",
    "First line of input contains a single integer T which denotes the number of test cases. Then T test cases follows. First line of each test case contains three space separated integers N, L and R.\n",
    "\n",
    "Output:\n",
    "For each test case , print the number obtained by toggling bits from the rightmost Lth bit to the rightmost Rth bit in binary representation of N.\n",
    "\n",
    "Constraints:\n",
    "1<=T<=100\n",
    "1<=N<=1000\n",
    "1<=L<=R\n",
    "L<=R<= Number of bits(N)\n",
    "\n",
    "Example:\n",
    "Input:\n",
    "2\n",
    "17 2 3\n",
    "50 2 5\n",
    "Output:\n",
    "23\n",
    "44\n",
    "'''\n",
    "\n",
    "for _ in range(int(input())):\n",
    "    l=list(map(int,input().split()))\n",
    "    c=0\n",
    "    s1=''\n",
    "    s=bin(l[0])[2:]\n",
    "    n=len(s)\n",
    "    for i in s:\n",
    "        if c>=(n-l[2]) and c<=(n-l[1]):\n",
    "            if i=='0':\n",
    "                s1+='1'\n",
    "            else:\n",
    "                s1+='0'\n",
    "        else:\n",
    "            s1+=i\n",
    "        c+=1\n",
    "    print(int(s1,base=2))"
   ]
  },
  {
   "cell_type": "code",
   "execution_count": 99,
   "metadata": {},
   "outputs": [
    {
     "data": {
      "text/plain": [
       "'1100'"
      ]
     },
     "execution_count": 99,
     "metadata": {},
     "output_type": "execute_result"
    }
   ],
   "source": [
    "s=bin(12)[2:]\n",
    "s"
   ]
  },
  {
   "cell_type": "code",
   "execution_count": null,
   "metadata": {},
   "outputs": [],
   "source": []
  },
  {
   "cell_type": "code",
   "execution_count": null,
   "metadata": {},
   "outputs": [],
   "source": []
  },
  {
   "cell_type": "code",
   "execution_count": 98,
   "metadata": {},
   "outputs": [
    {
     "data": {
      "text/plain": [
       "28"
      ]
     },
     "execution_count": 98,
     "metadata": {},
     "output_type": "execute_result"
    }
   ],
   "source": [
    "int('11100',2)"
   ]
  },
  {
   "cell_type": "code",
   "execution_count": 100,
   "metadata": {},
   "outputs": [
    {
     "name": "stdout",
     "output_type": "stream",
     "text": [
      "1\n",
      "12 2\n",
      "12\n"
     ]
    }
   ],
   "source": [
    "\"https://practice.geeksforgeeks.org/problems/set-kth-bit/0/?track=sp-bit-magic&batchId=152\"\n",
    "# Set kth bit ---> Cisco, Qualcomm\n",
    "# Difficulty: Basic   Marks: 1\n",
    "\n",
    "'''\n",
    "Given a number N and a value K. From the right, set the Kth bit in the binary representation of N. The position of LSB(or last bit) is 0, second last bit is 1 and so on. Also, 0 <= K < X, where X is the number of bits in the binary representation of N.\n",
    "\n",
    "Input:\n",
    "First line of input contains a single integer T, which denotes the number of test cases. T test cases follows. First line of each testcase contains two space separated integers N and K.\n",
    "\n",
    "Output:\n",
    "For each test case, print the new number after setting the Kth bit of N.\n",
    "\n",
    "Constraints:\n",
    "1 <= T <= 100\n",
    "1 <= N <= 1000\n",
    "\n",
    "Example:\n",
    "Input:\n",
    "2\n",
    "10 2\n",
    "15 3\n",
    "\n",
    "Output:\n",
    "14\n",
    "15\n",
    "\n",
    "Explanation:\n",
    "Testcase 1: Binary representation of the given number 10 is: 1 0 1 0, number of bits in the binary reprsentation is 4. Thus 2nd bit from right is 0. The number after changing this bit to 1 is: 14(1 1 1 0).\n",
    "'''\n",
    "\n",
    "for _ in range(int(input())):\n",
    "    l=list(map(int,input().split()))\n",
    "    s=bin(l[0])[2:]\n",
    "    s1=''\n",
    "    c=0\n",
    "    if (l[1]+1)>len(s):\n",
    "        s1='0'*(l[1]+1-len(s))+s\n",
    "        s=s1\n",
    "        s1=''\n",
    "    \n",
    "    for i in s:\n",
    "        if c==(len(s)-(l[1]+1)):\n",
    "            s1+='1'\n",
    "        else:\n",
    "            s1+=i\n",
    "        c+=1\n",
    "    print(int(s1,2))"
   ]
  },
  {
   "cell_type": "code",
   "execution_count": 13,
   "metadata": {},
   "outputs": [
    {
     "name": "stdout",
     "output_type": "stream",
     "text": [
      "1\n",
      "7 9\n",
      "3\n"
     ]
    }
   ],
   "source": [
    "\"https://practice.geeksforgeeks.org/problems/bit-difference/0/?track=sp-bit-magic&batchId=152\"\n",
    "# Bit Difference ---> Amazon Qualcomm, Samsung\n",
    "# Difficulty: Basic   Marks: 1\n",
    "'''\n",
    "You are given two numbers A and B. Write a program to count number of bits needed to be flipped to convert A to B.\n",
    "\n",
    "Input:\n",
    "The first line of input contains an integer T denoting the number of test cases. T testcases follow. The first line of each test case is A and B separated by a space.\n",
    "\n",
    "Output:\n",
    "For each testcase, in a new line, print the number of bits needed to be flipped.\n",
    "\n",
    "Constraints:\n",
    "1 ≤ T ≤ 100\n",
    "1 ≤ A, B ≤ 103\n",
    "\n",
    "Example:\n",
    "Input:\n",
    "1\n",
    "10 20\n",
    "Output:\n",
    "4\n",
    "\n",
    "Explanation:\n",
    "Testcase1:\n",
    "A  = 01010\n",
    "B  = 10100\n",
    "Number of bits need to flipped = 4\n",
    "'''\n",
    "for _ in range(int(input())):\n",
    "    a,c=input().split()\n",
    "    a=bin(int(a))[2:]\n",
    "    c=bin(int(c))[2:]\n",
    "    an=len(a)\n",
    "    cn=len(c)\n",
    "    if an!=cn:\n",
    "        if (an-cn)>0:\n",
    "            c='0'*(an-cn)+c\n",
    "        else:\n",
    "            a='0'*(cn-an)+a\n",
    "    count=0\n",
    "    for i,j in zip(a,c):\n",
    "        if i !=j:\n",
    "            count+=1\n",
    "    print(count)"
   ]
  },
  {
   "cell_type": "code",
   "execution_count": 2,
   "metadata": {},
   "outputs": [
    {
     "name": "stdout",
     "output_type": "stream",
     "text": [
      "2\n",
      "100\n",
      "70\n",
      "129\n",
      "24\n"
     ]
    }
   ],
   "source": [
    "\"https://practice.geeksforgeeks.org/problems/swap-two-nibbles-in-a-byte/0/?track=sp-bit-magic&batchId=152\"\n",
    "# Swap two nibbles in a byte ---> Accolite, Cisco, Amazon, Qualcomm\n",
    "# Difficulty: Basic   Marks: 1\n",
    "'''\n",
    "Given a byte, swap the two nibbles in it. For example 100 is be represented as 01100100 in a byte (or 8 bits).\n",
    "The two nibbles are (0110) and (0100). If we swap the two nibbles, we get 01000110 which is 70 in decimal.\n",
    "\n",
    "Input:\n",
    "\n",
    "The first line contains 'T' denoting the number of testcases. Each testcase contains a single positive integer X.\n",
    "\n",
    "\n",
    "Output:\n",
    "\n",
    "In each separate line print the result after swapping the nibbles.\n",
    "\n",
    "\n",
    "Constraints:\n",
    "\n",
    "1 ≤ T ≤ 70\n",
    "1 ≤ X ≤ 255\n",
    "\n",
    "\n",
    "Example:\n",
    "\n",
    "Input:\n",
    "\n",
    "2\n",
    "100\n",
    "129\n",
    "\n",
    "Output:\n",
    "\n",
    "70\n",
    "24\n",
    "'''\n",
    "for _ in range(int(input())):\n",
    "    a=bin(int(input()))[2:]\n",
    "    if len(a)%4!=0:\n",
    "        a='0'*(4-len(a)%4)+a\n",
    "    c=[]\n",
    "    for i in range(1,(len(a)//4)+1):\n",
    "        c.append(a[4*(i-1):4*i])\n",
    "    c=c[::-1]\n",
    "    print(int(''.join(c),2))"
   ]
  },
  {
   "cell_type": "markdown",
   "metadata": {},
   "source": [
    "### [Check whether K-th bit is set or not](https://practice.geeksforgeeks.org/problems/check-whether-k-th-bit-is-set-or-not/0/?track=sp-bit-magic&batchId=152)\n",
    "- Company Tag: Cisco\n",
    "- Difficulty: Basic \n",
    "- Marks: 1\n",
    "\n",
    "***Given a number N and a bit number K, check if Kth bit of N is set or not. A bit is called set if it is 1. Position of set bit '1' should be indexed starting with 0 from RSB side in binary representation of the number. Consider N = 4(100):  0th bit = 0, 1st bit = 0, 2nd bit = 1.***\n",
    "\n",
    "***Input:***\\\n",
    "The first line of input contains an integer T denoting the number of test cases. Then T test cases follow.\\ \n",
    "Each test case consists of two lines. The first line of each test case contain an integer  N. \\\n",
    "The second line of each test case contains an integer  K.\\\n",
    "\\\n",
    "***Output:***\\\n",
    "Corresponding to each test case, print \"Yes\" (without quotes) if Kth  bit is set else print \"No\" (without quotes) in a new line.\\\n",
    "\\\n",
    "***Constraints:***\\\n",
    "1 ≤ T ≤ 200\\\n",
    "1 ≤ N ≤ 109\\\n",
    "0 ≤ K ≤ floor(log2(N) + 1)\\\n",
    "\\\n",
    "***Example:***\\\n",
    "***Input:***\\\n",
    "3\\\n",
    "4\\\n",
    "0\\\n",
    "4\\\n",
    "2\\\n",
    "500\\\n",
    "3\\\n",
    "\\\n",
    "***Output:***\\\n",
    "No\\\n",
    "Yes\\\n",
    "No\\\n",
    "\\\n",
    "***Explanation:***\\\n",
    "***Testcase 1:*** Binary representation of 4 is 100, in which 0th bit from LSB is not set. So, answer is No.\\"
   ]
  },
  {
   "cell_type": "code",
   "execution_count": 18,
   "metadata": {},
   "outputs": [
    {
     "name": "stdout",
     "output_type": "stream",
     "text": [
      "3\n",
      "4\n",
      "0\n",
      "No\n",
      "4\n",
      "2\n",
      "Yes\n",
      "500\n",
      "3\n",
      "No\n"
     ]
    }
   ],
   "source": [
    "for _ in range(int(input())):\n",
    "    a=bin(int(input()))[2:]\n",
    "    k=int(input())\n",
    "    if a[(len(a)-1)-k]=='1':\n",
    "        print('Yes')\n",
    "    else:\n",
    "        print('No')"
   ]
  },
  {
   "cell_type": "markdown",
   "metadata": {},
   "source": [
    "### [Rightmost different bit](https://practice.geeksforgeeks.org/problems/rightmost-different-bit/0/?track=sp-bit-magic&batchId=152)\n",
    "- Difficulty: Basic\n",
    "- Marks: 1\n",
    "\n",
    "***Given two numbers M and N. The task is to find the position of rightmost different bit in binary representation of numbers.***\n",
    "\n",
    "***Input:***\\\n",
    "The input line contains T, denoting the number of testcases. Each testcase follows. First line of each testcase contains two space separated integers M and N.\n",
    "\n",
    "***Output:***\\\n",
    "For each testcase in new line, print the position of rightmost different bit in binary representation of numbers. If both M and N are same then print -1 in this case.\n",
    "\n",
    "***Constraints:***\\\n",
    "1 <= T <= 100\\\n",
    "1 <= M <= 103\\\n",
    "1 <= N <= 103\n",
    "\n",
    "***Example:***\\\n",
    "***Input:***\\\n",
    "2\\\n",
    "11 9\\\n",
    "52 4\n",
    "\n",
    "***Output:***\\\n",
    "2\\\n",
    "5\n",
    "\n",
    "***Explanation:***\\\n",
    "***Tescase 1:*** Binary representaion of the given numbers are: 1011 and 1001, 2nd bit from right is different."
   ]
  },
  {
   "cell_type": "code",
   "execution_count": 26,
   "metadata": {},
   "outputs": [
    {
     "name": "stdout",
     "output_type": "stream",
     "text": [
      "2\n",
      "11 9\n",
      "2\n",
      "52 4\n",
      "5\n"
     ]
    }
   ],
   "source": [
    "for _ in range(int(input())):\n",
    "    a,c=input().split()\n",
    "    a=bin(int(a))[2:]\n",
    "    c=bin(int(c))[2:]\n",
    "    an=len(a)\n",
    "    cn=len(c)\n",
    "    if an!=cn:\n",
    "        if (an-cn)>0:\n",
    "            c='0'*(an-cn)+c\n",
    "        else:\n",
    "            a='0'*(cn-an)+a\n",
    "    k=len(a)\n",
    "    for i in range(k):\n",
    "        if a[k-1-i]!=c[k-1-i]:\n",
    "            print(i+1)\n",
    "            break\n",
    "    else:\n",
    "        print(-1)"
   ]
  },
  {
   "cell_type": "markdown",
   "metadata": {},
   "source": [
    "### [Number is sparse or not](https://practice.geeksforgeeks.org/problems/number-is-sparse-or-not/0/?track=sp-bit-magic&batchId=152)\n",
    "- Difficulty: Basic\n",
    "- Marks: 1\n",
    "\n",
    "***Given a number N, check whether it is sparse or not. A number is said to be a sparse number if in the binary representation of the number no two or more consecutive bits are set.***\n",
    "\n",
    "***Input:***\\\n",
    "The first line of input contains an integer T denoting the number of test cases. The first line of each test case is number 'N'.\n",
    "\n",
    "***Output:***\\\n",
    "Print '1' if the number is sparse and '0' if the number is not sparse.\n",
    "\n",
    "***Constraints:***\\\n",
    "1 <= T <= 100\\\n",
    "1 <= N <= 103\n",
    "\n",
    "***Example:***\\\n",
    "***Input:***\\\n",
    "2\\\n",
    "2\\\n",
    "3\n",
    "\n",
    "***Output:***\\\n",
    "1\\\n",
    "0\n",
    "\n",
    "***Explanation:***\\\n",
    "***Testcase 1:*** Binary Representation of 2 is 10, which is not having consecutive set bits. So, it is sparse number.\\\n",
    "***Testcase 2:*** Binary Representation of 3 is 11, which is having consecutive set bits in it. So, it is not a sparse number."
   ]
  },
  {
   "cell_type": "code",
   "execution_count": 34,
   "metadata": {},
   "outputs": [
    {
     "name": "stdout",
     "output_type": "stream",
     "text": [
      "1\n",
      "81\n",
      "0\n"
     ]
    }
   ],
   "source": [
    "for _ in range(int(input())):\n",
    "    a=bin(int(input()))[2:]\n",
    "    if a.count('11')>0:\n",
    "        print(0)\n",
    "    else:\n",
    "        print(1)"
   ]
  },
  {
   "cell_type": "markdown",
   "metadata": {},
   "source": [
    "### [Gray Code](https://practice.geeksforgeeks.org/problems/gray-code/0/?track=sp-bit-magic&batchId=152)\n",
    "- Difficulty: Basic\n",
    "- Marks: 1\n",
    "\n",
    "***You are given a decimal number n. You need to find the gray code of the number n and convert it into decimal.\n",
    "To see how it's done, refer here.***\n",
    "\n",
    "***Input:***\\\n",
    "The first line contains an integer T, the number of test cases. For each test case, there is an integer n denoting the number\n",
    "\n",
    "***Output:***\\\n",
    "For each test case, the output is gray code equivalent of n.\n",
    "\n",
    "***Constraints:***\\\n",
    "1 <= T <= 100\\\n",
    "0 <= n <= 108\n",
    "\n",
    "***Example:***\\\n",
    "***Input***\\\n",
    "2\\\n",
    "7\\\n",
    "10\n",
    "\n",
    "***Output***\\\n",
    "4\\\n",
    "15\n",
    "\n",
    "***Explanation:***\\\n",
    "***Testcase1:*** 7 is represented as 111 in binary form. The gray code of 111 is 100, in the binary form whose decimal equivalent is 4.\n",
    "\n",
    "***Testcase2:*** 10 is represented as 1010 in binary form. The gray code of 1010 is 1111, in the binary form whose decimal equivalent is 15."
   ]
  },
  {
   "cell_type": "code",
   "execution_count": 43,
   "metadata": {},
   "outputs": [
    {
     "name": "stdout",
     "output_type": "stream",
     "text": [
      "1\n",
      "4\n",
      "6\n"
     ]
    }
   ],
   "source": [
    "for _ in range(int(input())):\n",
    "    a=bin(int(input()))[2:]\n",
    "    c=a[0]\n",
    "    for i in range(1,len(a)):\n",
    "        k=(int(a[i])+int(a[i-1]))\n",
    "        if k==0 or k==1:\n",
    "            c+=str(k)\n",
    "        else:\n",
    "            c+='0'\n",
    "    print(int(c,2))"
   ]
  },
  {
   "cell_type": "code",
   "execution_count": 38,
   "metadata": {},
   "outputs": [
    {
     "data": {
      "text/plain": [
       "'1'"
      ]
     },
     "execution_count": 38,
     "metadata": {},
     "output_type": "execute_result"
    }
   ],
   "source": [
    "a[0]"
   ]
  },
  {
   "cell_type": "code",
   "execution_count": 40,
   "metadata": {},
   "outputs": [
    {
     "data": {
      "text/plain": [
       "'2'"
      ]
     },
     "execution_count": 40,
     "metadata": {},
     "output_type": "execute_result"
    }
   ],
   "source": [
    "''+'2'"
   ]
  },
  {
   "cell_type": "code",
   "execution_count": 35,
   "metadata": {},
   "outputs": [
    {
     "data": {
      "text/plain": [
       "'1010001'"
      ]
     },
     "execution_count": 35,
     "metadata": {},
     "output_type": "execute_result"
    }
   ],
   "source": [
    "a=bin(81)[2:]\n",
    "a"
   ]
  },
  {
   "cell_type": "code",
   "execution_count": 19,
   "metadata": {},
   "outputs": [
    {
     "data": {
      "text/plain": [
       "'110100'"
      ]
     },
     "execution_count": 19,
     "metadata": {},
     "output_type": "execute_result"
    }
   ],
   "source": [
    "a=bin(52)[2:]\n",
    "a"
   ]
  },
  {
   "cell_type": "code",
   "execution_count": 15,
   "metadata": {},
   "outputs": [
    {
     "data": {
      "text/plain": [
       "'0'"
      ]
     },
     "execution_count": 15,
     "metadata": {},
     "output_type": "execute_result"
    }
   ],
   "source": [
    "k=0\n",
    "a[(len(a)-1)-k]"
   ]
  }
 ],
 "metadata": {
  "kernelspec": {
   "display_name": "Python 3",
   "language": "python",
   "name": "python3"
  },
  "language_info": {
   "codemirror_mode": {
    "name": "ipython",
    "version": 3
   },
   "file_extension": ".py",
   "mimetype": "text/x-python",
   "name": "python",
   "nbconvert_exporter": "python",
   "pygments_lexer": "ipython3",
   "version": "3.7.5"
  }
 },
 "nbformat": 4,
 "nbformat_minor": 2
}
