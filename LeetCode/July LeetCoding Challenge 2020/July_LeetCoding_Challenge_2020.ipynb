{
 "cells": [
  {
   "cell_type": "markdown",
   "metadata": {},
   "source": [
    "# [Arranging Coins](https://leetcode.com/explore/featured/card/july-leetcoding-challenge/544/week-1-july-1st-july-7th/3377/)"
   ]
  },
  {
   "cell_type": "markdown",
   "metadata": {},
   "source": [
    "You have a total of n coins that you want to form in a staircase shape, where every k-th row must have exactly k coins.\n",
    "\n",
    "Given n, find the total number of full staircase rows that can be formed.\n",
    "\n",
    "n is a non-negative integer and fits within the range of a 32-bit signed integer.\n",
    "\n",
    "***Example 1:***\n",
    "\n",
    "n = 5\n",
    "\n",
    "The coins can form the following rows:\\\n",
    "¤\\\n",
    "¤ ¤\\\n",
    "¤ ¤\n",
    "\n",
    "Because the 3rd row is incomplete, we return 2.\n",
    "\n",
    "***Example 2:***\n",
    "\n",
    "n = 8\n",
    "\n",
    "The coins can form the following rows:\\\n",
    "¤\\\n",
    "¤ ¤\\\n",
    "¤ ¤ ¤\\\n",
    "¤ ¤\n",
    "\n",
    "Because the 4th row is incomplete, we return 3."
   ]
  },
  {
   "cell_type": "code",
   "execution_count": 2,
   "metadata": {},
   "outputs": [
    {
     "name": "stdin",
     "output_type": "stream",
     "text": [
      " 5\n"
     ]
    },
    {
     "name": "stdout",
     "output_type": "stream",
     "text": [
      "2\n"
     ]
    }
   ],
   "source": [
    "class Solution:\n",
    "    def arrangeCoins(self, n: int) -> int:\n",
    "        c=0\n",
    "        while True:\n",
    "            if (2*n)<=c*(c+1) :\n",
    "                if (2*n)!=c*(c+1):\n",
    "                    c-=1\n",
    "                break\n",
    "            else:\n",
    "                c+=1\n",
    "#     print(c*(c+1))\n",
    "        return c\n",
    "print(Solution().arrangeCoins(int(input())))"
   ]
  },
  {
   "cell_type": "markdown",
   "metadata": {},
   "source": [
    "# Ugly Number II"
   ]
  },
  {
   "cell_type": "markdown",
   "metadata": {},
   "source": [
    "***Write a program to find the n-th ugly number.***\n",
    "\n",
    "Ugly numbers are positive numbers whose prime factors only include 2, 3, 5. \n",
    "\n",
    "**Example:**\n",
    "\n",
    "**Input:** n = 10\\\n",
    "**Output:** 12\\\n",
    "**Explanation:** 1, 2, 3, 4, 5, 6, 8, 9, 10, 12 is the sequence of the first 10 ugly numbers.\\\n",
    "**Note:** \\\n",
    "1. 1 is typically treated as an ugly number.\\\n",
    "2. n does not exceed 1690."
   ]
  },
  {
   "cell_type": "code",
   "execution_count": 14,
   "metadata": {},
   "outputs": [
    {
     "name": "stdin",
     "output_type": "stream",
     "text": [
      " 126\n"
     ]
    },
    {
     "name": "stdout",
     "output_type": "stream",
     "text": [
      "3200\n"
     ]
    }
   ],
   "source": [
    "class Solution:\n",
    "    def nthUglyNumber(self, n: int) -> int:\n",
    "        ugly=[0]*1690\n",
    "        ugly[0]=1\n",
    "        i2,i3,i5=[0]*3\n",
    "        next_2=2\n",
    "        next_3=3\n",
    "        next_5=5\n",
    "        for i in range(1,1690):\n",
    "            ugly[i]=min(next_2,next_3,next_5)\n",
    "            if ugly[i]==next_2:\n",
    "                i2+=1\n",
    "                next_2=ugly[i2]*2\n",
    "            if ugly[i]==next_3:\n",
    "                i3+=1\n",
    "                next_3=ugly[i3]*3\n",
    "            if ugly[i]==next_5:\n",
    "                i5+=1\n",
    "                next_5=ugly[i5]*5\n",
    "        return ugly[n-1]\n",
    "s=Solution()\n",
    "print(s.nthUglyNumber(int(input())))"
   ]
  },
  {
   "cell_type": "markdown",
   "metadata": {},
   "source": [
    "#   Hamming Distance"
   ]
  },
  {
   "cell_type": "markdown",
   "metadata": {},
   "source": [
    "The Hamming distance between two integers is the number of positions at which the corresponding bits are different.\n",
    "\n",
    "Given two integers x and y, calculate the Hamming distance.\n",
    "\n",
    "**Note:**\\\n",
    "0 ≤ x, y < 231.\n",
    "\n",
    "**Example:**\n",
    "\n",
    "**Input:** x = 1, y = 4\n",
    "\n",
    "**Output:** 2\n",
    "\n",
    "**Explanation:**\\\n",
    "1   (0 0 0 1)\\\n",
    "4   (0 1 0 0)\\\n",
    "       ↑   ↑\n",
    "\n",
    "The above arrows point to positions where the corresponding bits are different."
   ]
  },
  {
   "cell_type": "code",
   "execution_count": 34,
   "metadata": {},
   "outputs": [
    {
     "name": "stdin",
     "output_type": "stream",
     "text": [
      " 1\n",
      " 4\n"
     ]
    },
    {
     "data": {
      "text/plain": [
       "2"
      ]
     },
     "execution_count": 34,
     "metadata": {},
     "output_type": "execute_result"
    }
   ],
   "source": [
    "bin(int(input())^int(input())).count('1')"
   ]
  },
  {
   "cell_type": "code",
   "execution_count": 31,
   "metadata": {},
   "outputs": [],
   "source": [
    "float('1_1')\n",
    "x=float(_)"
   ]
  },
  {
   "cell_type": "code",
   "execution_count": 32,
   "metadata": {},
   "outputs": [
    {
     "data": {
      "text/plain": [
       "0.0"
      ]
     },
     "execution_count": 32,
     "metadata": {},
     "output_type": "execute_result"
    }
   ],
   "source": [
    "x"
   ]
  },
  {
   "cell_type": "code",
   "execution_count": 12,
   "metadata": {},
   "outputs": [
    {
     "data": {
      "text/plain": [
       "11111.0"
      ]
     },
     "execution_count": 12,
     "metadata": {},
     "output_type": "execute_result"
    }
   ],
   "source": [
    "float('1_1_1_1_1')"
   ]
  },
  {
   "cell_type": "code",
   "execution_count": null,
   "metadata": {},
   "outputs": [],
   "source": []
  }
 ],
 "metadata": {
  "kernelspec": {
   "display_name": "Python 3",
   "language": "python",
   "name": "python3"
  },
  "language_info": {
   "codemirror_mode": {
    "name": "ipython",
    "version": 3
   },
   "file_extension": ".py",
   "mimetype": "text/x-python",
   "name": "python",
   "nbconvert_exporter": "python",
   "pygments_lexer": "ipython3",
   "version": "3.8.2"
  }
 },
 "nbformat": 4,
 "nbformat_minor": 4
}
