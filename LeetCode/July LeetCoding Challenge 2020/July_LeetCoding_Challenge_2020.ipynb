{
 "cells": [
  {
   "cell_type": "markdown",
   "metadata": {},
   "source": [
    "# Arranging Coins"
   ]
  },
  {
   "cell_type": "markdown",
   "metadata": {},
   "source": [
    "You have a total of n coins that you want to form in a staircase shape, where every k-th row must have exactly k coins.\n",
    "\n",
    "Given n, find the total number of full staircase rows that can be formed.\n",
    "\n",
    "n is a non-negative integer and fits within the range of a 32-bit signed integer.\n",
    "\n",
    "***Example 1:***\n",
    "\n",
    "n = 5\n",
    "\n",
    "The coins can form the following rows:\\\n",
    "¤\\\n",
    "¤ ¤\\\n",
    "¤ ¤\n",
    "\n",
    "Because the 3rd row is incomplete, we return 2.\n",
    "\n",
    "***Example 2:***\n",
    "\n",
    "n = 8\n",
    "\n",
    "The coins can form the following rows:\\\n",
    "¤\\\n",
    "¤ ¤\\\n",
    "¤ ¤ ¤\\\n",
    "¤ ¤\n",
    "\n",
    "Because the 4th row is incomplete, we return 3."
   ]
  },
  {
   "cell_type": "code",
   "execution_count": 2,
   "metadata": {},
   "outputs": [
    {
     "name": "stdin",
     "output_type": "stream",
     "text": [
      " 5\n"
     ]
    },
    {
     "name": "stdout",
     "output_type": "stream",
     "text": [
      "2\n"
     ]
    }
   ],
   "source": [
    "class Solution:\n",
    "    def arrangeCoins(self, n: int) -> int:\n",
    "        c=0\n",
    "        while True:\n",
    "            if (2*n)<=c*(c+1) :\n",
    "                if (2*n)!=c*(c+1):\n",
    "                    c-=1\n",
    "                break\n",
    "            else:\n",
    "                c+=1\n",
    "#     print(c*(c+1))\n",
    "        return c\n",
    "print(Solution().arrangeCoins(int(input())))"
   ]
  },
  {
   "cell_type": "code",
   "execution_count": null,
   "metadata": {},
   "outputs": [],
   "source": []
  }
 ],
 "metadata": {
  "kernelspec": {
   "display_name": "Python 3",
   "language": "python",
   "name": "python3"
  },
  "language_info": {
   "codemirror_mode": {
    "name": "ipython",
    "version": 3
   },
   "file_extension": ".py",
   "mimetype": "text/x-python",
   "name": "python",
   "nbconvert_exporter": "python",
   "pygments_lexer": "ipython3",
   "version": "3.8.2"
  }
 },
 "nbformat": 4,
 "nbformat_minor": 4
}
